{
  "cells": [
    {
      "cell_type": "markdown",
      "source": [
        "# google drive mount"
      ],
      "metadata": {
        "id": "Lj3T0gSN-qg0"
      }
    },
    {
      "cell_type": "code",
      "source": [
        "from google.colab import drive\n",
        "drive.mount('/content/data')"
      ],
      "metadata": {
        "colab": {
          "base_uri": "https://localhost:8080/"
        },
        "id": "-LnSyPOrwthj",
        "outputId": "deb936c8-7844-4189-efaf-3702b86b7442"
      },
      "execution_count": 1,
      "outputs": [
        {
          "output_type": "stream",
          "name": "stdout",
          "text": [
            "Mounted at /content/data\n"
          ]
        }
      ]
    },
    {
      "cell_type": "markdown",
      "metadata": {
        "id": "zw8TjTKOniM-"
      },
      "source": [
        "# 이미지 전처리와 데이터 split"
      ]
    },
    {
      "cell_type": "code",
      "execution_count": 2,
      "metadata": {
        "id": "gH-xesKKniM-"
      },
      "outputs": [],
      "source": [
        "import numpy as np\n",
        "import torchvision.transforms as transforms\n",
        "from torchvision import datasets\n",
        "import os\n",
        "import pandas as pd"
      ]
    },
    {
      "cell_type": "markdown",
      "source": [
        "# 데이터 증강"
      ],
      "metadata": {
        "id": "BE6EeAYrygBt"
      }
    },
    {
      "cell_type": "code",
      "source": [
        "# 0. import\n",
        "import numpy as np\n",
        "import pandas as pd\n",
        "import matplotlib.pyplot as plt\n",
        "%matplotlib inline\n",
        "import cv2\n",
        "import os, glob\n",
        "import random\n",
        "from tqdm import tqdm\n",
        "from time import time"
      ],
      "metadata": {
        "id": "xTz7Hr5SM8vu"
      },
      "execution_count": 3,
      "outputs": []
    },
    {
      "cell_type": "code",
      "source": [
        "# 1. 데이터 증강에 사용할 함수정의\n",
        "def contrast(gray, min_val, max_val):\n",
        "    #gray = cv2.cvtColor(img, cv2.COLOR_GRAY2RGB)\n",
        "    alpha = int(random.uniform(min_val, max_val)) # Contrast control\n",
        "    adjusted = cv2.convertScaleAbs(gray, alpha=alpha)\n",
        "    return adjusted\n",
        "\n",
        "def fill(img, h, w):\n",
        "    img = cv2.resize(img, (h, w), cv2.INTER_CUBIC)\n",
        "    return img\n",
        "\n",
        "def rotation(img, angle):\n",
        "    # angle = int(random.uniform(-angle, angle))\n",
        "    angle_list = [int(angle), 15, 25, 90, 45,90,180, 180] #조절\n",
        "    angle = random.choice(angle_list)\n",
        "    h, w = img.shape[:2]\n",
        "    M = cv2.getRotationMatrix2D((int(w/2), int(h/2)), angle, 1)\n",
        "    img = cv2.warpAffine(img, M, (w, h))\n",
        "    return img\n",
        "\n",
        "\n",
        "def vertical_shift_down(img, ratio=0.0):\n",
        "    if ratio > 1 or ratio < 0:\n",
        "        print('Value should be less than 1 and greater than 0')\n",
        "        return img\n",
        "    ratio = random.uniform(-ratio, ratio)\n",
        "    h, w = img.shape[:2]\n",
        "    to_shift = h*ratio\n",
        "    if ratio > 0:\n",
        "        img = img[:int(h-to_shift), :, :]\n",
        "    img = fill(img, h, w)\n",
        "    return img\n",
        "\n",
        "\n",
        "def vertical_shift_up(img, ratio=0.0):\n",
        "    if ratio > 1 or ratio < 0:\n",
        "        print('Value should be less than 1 and greater than 0')\n",
        "        return img\n",
        "    ratio = random.uniform(0.0, ratio)\n",
        "    h, w = img.shape[:2]\n",
        "    to_shift = h*ratio\n",
        "    if ratio > 0:\n",
        "        img = img[:int(h-to_shift), :, :]\n",
        "    img = fill(img, h, w)\n",
        "    return img\n",
        "\n",
        "def horizontal_shift(img, ratio=0.0):\n",
        "    if ratio > 1 or ratio < 0:\n",
        "        print('Value should be less than 1 and greater than 0')\n",
        "        return img\n",
        "    ratio = random.uniform(-ratio, ratio)\n",
        "    h, w = img.shape[:2]\n",
        "    to_shift = w*ratio\n",
        "    if ratio > 0:\n",
        "        img = img[:, :int(w-to_shift), :]\n",
        "    if ratio < 0:\n",
        "        img = img[:, int(-1*to_shift):, :]\n",
        "    img = fill(img, h, w)\n",
        "    return img\n",
        "\n",
        "\n",
        "def vertical_flip(img, flag):\n",
        "    if flag:\n",
        "        return cv2.flip(img, 0)\n",
        "    else:\n",
        "        return img\n",
        "\n",
        "def horizontal_flip(img, flag):\n",
        "    if flag:\n",
        "        return cv2.flip(img, 1)\n",
        "    else:\n",
        "        return img"
      ],
      "metadata": {
        "id": "H_VRQfe_M9jj"
      },
      "execution_count": null,
      "outputs": []
    },
    {
      "cell_type": "markdown",
      "source": [
        "## 데이터 불균형 해결 \n",
        "> lable당 100개의 이미지로 증량"
      ],
      "metadata": {
        "id": "F-JIRugpFfSJ"
      }
    },
    {
      "cell_type": "code",
      "source": [
        "PATH = '/content/data/MyDrive/deeplearning/train_new/'\n",
        "\n",
        "image_dirs = os.listdir(PATH)\n",
        "image_paths = dict()\n",
        "for image_dir in tqdm(image_dirs):\n",
        "    try:\n",
        "        files = glob.glob(PATH + image_dir+\"/*.png\") \n",
        "        image_paths[image_dir] = [file for file in files]\n",
        "    except:\n",
        "        FileNotFoundError"
      ],
      "metadata": {
        "colab": {
          "base_uri": "https://localhost:8080/"
        },
        "id": "mdc-5potM9sB",
        "outputId": "67aa8aed-7a44-4911-a23f-12eff294d154"
      },
      "execution_count": 4,
      "outputs": [
        {
          "output_type": "stream",
          "name": "stderr",
          "text": [
            "100%|██████████| 88/88 [00:16<00:00,  5.22it/s]\n"
          ]
        }
      ]
    },
    {
      "cell_type": "code",
      "source": [
        "# for문으로 이미지 파일, path 가져와서 data에에 filename, label 입력\n",
        "import PIL\n",
        "from PIL import Image\n",
        "import torch\n",
        "import torchvision\n",
        "from torch.utils.data import  TensorDataset, DataLoader\n",
        "\n",
        "data = dict()\n",
        "data['label'] = []\n",
        "data['filename'] = []\n",
        "# data['image_arr'] = []\n",
        "for label,paths in tqdm(image_paths.items()):\n",
        "    for path in paths:\n",
        "        img = Image.open(path)\n",
        "        data['filename'].append(path)\n",
        "        # data['image_arr'].append(img_arr)\n",
        "        data['label'].append(label)"
      ],
      "metadata": {
        "colab": {
          "base_uri": "https://localhost:8080/"
        },
        "id": "5BLCt9LUM9uS",
        "outputId": "03c18dde-ad87-49f0-8c41-2562e3232cac"
      },
      "execution_count": 5,
      "outputs": [
        {
          "output_type": "stream",
          "name": "stderr",
          "text": [
            "100%|██████████| 88/88 [40:05<00:00, 27.34s/it]\n"
          ]
        }
      ]
    },
    {
      "cell_type": "code",
      "source": [
        "from collections import Counter\n",
        "import matplotlib.pyplot as plt\n",
        "#from keras.preprocessing.image import ImageDataGenerator, array_to_img, img_to_array,load_img\n",
        "#print('number of samples: ', len(data['image_arr']))\n",
        "print('dict keys: ', list(data.keys()))\n",
        "# print('image shape: ', data['image_arr'][0].shape)\n",
        "count_label = Counter(data['label'])\n",
        "print('Original dataset shape')\n",
        "print(sorted(count_label.items()))"
      ],
      "metadata": {
        "id": "HCQgrRqaNfS0",
        "colab": {
          "base_uri": "https://localhost:8080/"
        },
        "outputId": "b2803c08-9a86-4449-e2d7-64a3fd4ff3a7"
      },
      "execution_count": 6,
      "outputs": [
        {
          "output_type": "stream",
          "name": "stdout",
          "text": [
            "dict keys:  ['label', 'filename']\n",
            "Original dataset shape\n",
            "[('bottle-broken_large', 100), ('bottle-broken_small', 100), ('bottle-contamination', 100), ('bottle-good', 209), ('cable-bent_wire', 100), ('cable-cable_swap', 100), ('cable-combined', 100), ('cable-cut_inner_insulation', 100), ('cable-cut_outer_insulation', 100), ('cable-good', 224), ('cable-missing_cable', 100), ('cable-missing_wire', 100), ('cable-poke_insulation', 100), ('capsule-crack', 100), ('capsule-faulty_imprint', 100), ('capsule-good', 219), ('capsule-poke', 100), ('capsule-scratch', 100), ('capsule-squeeze', 100), ('carpet-color', 100), ('carpet-cut', 100), ('carpet-good', 280), ('carpet-hole', 100), ('carpet-metal_contamination', 100), ('carpet-thread', 100), ('grid-bent', 100), ('grid-broken', 100), ('grid-glue', 100), ('grid-good', 264), ('grid-metal_contamination', 100), ('grid-thread', 100), ('hazelnut-crack', 100), ('hazelnut-cut', 100), ('hazelnut-good', 391), ('hazelnut-hole', 100), ('hazelnut-print', 100), ('leather-color', 100), ('leather-cut', 100), ('leather-fold', 100), ('leather-glue', 100), ('leather-good', 245), ('leather-poke', 100), ('metal_nut-bent', 100), ('metal_nut-color', 100), ('metal_nut-flip', 100), ('metal_nut-good', 220), ('metal_nut-scratch', 100), ('pill-color', 100), ('pill-combined', 100), ('pill-contamination', 100), ('pill-crack', 100), ('pill-faulty_imprint', 100), ('pill-good', 267), ('pill-pill_type', 100), ('pill-scratch', 100), ('screw-good', 320), ('screw-manipulated_front', 100), ('screw-scratch_head', 100), ('screw-scratch_neck', 100), ('screw-thread_side', 100), ('screw-thread_top', 100), ('tile-crack', 100), ('tile-glue_strip', 100), ('tile-good', 230), ('tile-gray_stroke', 100), ('tile-oil', 100), ('tile-rough', 100), ('toothbrush-defective', 100), ('toothbrush-good', 100), ('transistor-bent_lead', 100), ('transistor-cut_lead', 100), ('transistor-damaged_case', 100), ('transistor-good', 213), ('transistor-misplaced', 100), ('wood-color', 100), ('wood-combined', 100), ('wood-good', 247), ('wood-hole', 100), ('wood-liquid', 100), ('wood-scratch', 100), ('zipper-broken_teeth', 100), ('zipper-combined', 100), ('zipper-fabric_border', 100), ('zipper-fabric_interior', 100), ('zipper-good', 240), ('zipper-rough', 100), ('zipper-split_teeth', 100), ('zipper-squeezed_teeth', 100)]\n"
          ]
        }
      ]
    },
    {
      "cell_type": "code",
      "source": [
        "PATH = '/content/data/MyDrive/deeplearning/train_new/'\n",
        "image_dirs = os.listdir(PATH)\n",
        "len_image_list = 0\n",
        "\n",
        "label_count = Counter(data['label'])\n",
        "label_max = max(label_count.values())\n",
        "\n",
        "\n",
        "for image_dir in tqdm(image_dirs):\n",
        "    image_list = os.listdir(PATH+image_dir+\"/\")\n",
        "    len_image_list = len(image_list)\n",
        "\n",
        "    while(len_image_list<100):   # 폴더에 생성할 갯수 설정\n",
        "        \n",
        "        for image in image_list:\n",
        "            img = cv2.imread(PATH+image_dir+\"/\"+image)\n",
        "            img = contrast(img, 1, 1.5)\n",
        "            img = horizontal_flip(img, 1)\n",
        "            img = rotation(img, 45)\n",
        "            img = horizontal_shift(img, 0.1)\n",
        "            file_name = PATH+image_dir+\"/arumentation_\"+str(time())+ '.png'\n",
        "            cv2.imwrite(file_name, img)\n",
        "            len_image_list += 1\n",
        "            if len_image_list >= 100:\n",
        "                break;\n",
        "\n",
        "    len_image_list = 0"
      ],
      "metadata": {
        "id": "vt-wAe7hNjws",
        "colab": {
          "base_uri": "https://localhost:8080/"
        },
        "outputId": "b3ec9b77-9483-4792-c523-25cb7a9d4a41"
      },
      "execution_count": 7,
      "outputs": [
        {
          "output_type": "stream",
          "name": "stderr",
          "text": [
            "100%|██████████| 88/88 [00:00<00:00, 244.09it/s]\n"
          ]
        }
      ]
    },
    {
      "cell_type": "markdown",
      "source": [
        "## 데이터 전처리"
      ],
      "metadata": {
        "id": "g9MgY71ByYM2"
      }
    },
    {
      "cell_type": "code",
      "source": [
        "pip install timm"
      ],
      "metadata": {
        "id": "sXPCXZ9ucANg",
        "colab": {
          "base_uri": "https://localhost:8080/"
        },
        "outputId": "67e1cbb4-16f4-4fcd-c14e-9746bd465664"
      },
      "execution_count": 8,
      "outputs": [
        {
          "output_type": "stream",
          "name": "stdout",
          "text": [
            "Looking in indexes: https://pypi.org/simple, https://us-python.pkg.dev/colab-wheels/public/simple/\n",
            "Collecting timm\n",
            "  Downloading timm-0.6.12-py3-none-any.whl (549 kB)\n",
            "\u001b[2K     \u001b[90m━━━━━━━━━━━━━━━━━━━━━━━━━━━━━━━━━━━━━━\u001b[0m \u001b[32m549.1/549.1 KB\u001b[0m \u001b[31m11.1 MB/s\u001b[0m eta \u001b[36m0:00:00\u001b[0m\n",
            "\u001b[?25hRequirement already satisfied: pyyaml in /usr/local/lib/python3.9/dist-packages (from timm) (6.0)\n",
            "Requirement already satisfied: torchvision in /usr/local/lib/python3.9/dist-packages (from timm) (0.14.1+cu116)\n",
            "Collecting huggingface-hub\n",
            "  Downloading huggingface_hub-0.13.2-py3-none-any.whl (199 kB)\n",
            "\u001b[2K     \u001b[90m━━━━━━━━━━━━━━━━━━━━━━━━━━━━━━━━━━━━━━\u001b[0m \u001b[32m199.2/199.2 KB\u001b[0m \u001b[31m24.6 MB/s\u001b[0m eta \u001b[36m0:00:00\u001b[0m\n",
            "\u001b[?25hRequirement already satisfied: torch>=1.7 in /usr/local/lib/python3.9/dist-packages (from timm) (1.13.1+cu116)\n",
            "Requirement already satisfied: typing-extensions in /usr/local/lib/python3.9/dist-packages (from torch>=1.7->timm) (4.5.0)\n",
            "Requirement already satisfied: tqdm>=4.42.1 in /usr/local/lib/python3.9/dist-packages (from huggingface-hub->timm) (4.65.0)\n",
            "Requirement already satisfied: filelock in /usr/local/lib/python3.9/dist-packages (from huggingface-hub->timm) (3.10.0)\n",
            "Requirement already satisfied: packaging>=20.9 in /usr/local/lib/python3.9/dist-packages (from huggingface-hub->timm) (23.0)\n",
            "Requirement already satisfied: requests in /usr/local/lib/python3.9/dist-packages (from huggingface-hub->timm) (2.27.1)\n",
            "Requirement already satisfied: numpy in /usr/local/lib/python3.9/dist-packages (from torchvision->timm) (1.22.4)\n",
            "Requirement already satisfied: pillow!=8.3.*,>=5.3.0 in /usr/local/lib/python3.9/dist-packages (from torchvision->timm) (8.4.0)\n",
            "Requirement already satisfied: certifi>=2017.4.17 in /usr/local/lib/python3.9/dist-packages (from requests->huggingface-hub->timm) (2022.12.7)\n",
            "Requirement already satisfied: urllib3<1.27,>=1.21.1 in /usr/local/lib/python3.9/dist-packages (from requests->huggingface-hub->timm) (1.26.15)\n",
            "Requirement already satisfied: idna<4,>=2.5 in /usr/local/lib/python3.9/dist-packages (from requests->huggingface-hub->timm) (3.4)\n",
            "Requirement already satisfied: charset-normalizer~=2.0.0 in /usr/local/lib/python3.9/dist-packages (from requests->huggingface-hub->timm) (2.0.12)\n",
            "Installing collected packages: huggingface-hub, timm\n",
            "Successfully installed huggingface-hub-0.13.2 timm-0.6.12\n"
          ]
        }
      ]
    },
    {
      "cell_type": "code",
      "source": [
        "pip install GPUtil"
      ],
      "metadata": {
        "id": "iAwuWfnCcHY1",
        "colab": {
          "base_uri": "https://localhost:8080/"
        },
        "outputId": "979d82ee-d571-4af6-adf7-56a33e3c0522"
      },
      "execution_count": 9,
      "outputs": [
        {
          "output_type": "stream",
          "name": "stdout",
          "text": [
            "Looking in indexes: https://pypi.org/simple, https://us-python.pkg.dev/colab-wheels/public/simple/\n",
            "Collecting GPUtil\n",
            "  Downloading GPUtil-1.4.0.tar.gz (5.5 kB)\n",
            "  Preparing metadata (setup.py) ... \u001b[?25l\u001b[?25hdone\n",
            "Building wheels for collected packages: GPUtil\n",
            "  Building wheel for GPUtil (setup.py) ... \u001b[?25l\u001b[?25hdone\n",
            "  Created wheel for GPUtil: filename=GPUtil-1.4.0-py3-none-any.whl size=7408 sha256=658631a05901b72a485cf88f672aca51a1ef76951c11cad5344efe974d9e4faa\n",
            "  Stored in directory: /root/.cache/pip/wheels/2b/b5/24/fbb56595c286984f7315ee31821d6121e1b9828436021a88b3\n",
            "Successfully built GPUtil\n",
            "Installing collected packages: GPUtil\n",
            "Successfully installed GPUtil-1.4.0\n"
          ]
        }
      ]
    },
    {
      "cell_type": "code",
      "source": [
        "import warnings\n",
        "warnings.filterwarnings('ignore')\n",
        "\n",
        "from glob import glob\n",
        "import pandas as pd\n",
        "import numpy as np \n",
        "from tqdm import tqdm\n",
        "import cv2\n",
        "\n",
        "import os\n",
        "import timm\n",
        "import random\n",
        "\n",
        "import torch\n",
        "from torch.utils.data import Dataset, DataLoader\n",
        "import torch.nn as nn\n",
        "import torchvision.transforms as transforms\n",
        "from torchvision import datasets, models\n",
        "from sklearn.metrics import f1_score, accuracy_score\n",
        "from torch.utils.data.sampler import SubsetRandomSampler\n",
        "import time\n",
        "\n",
        "\n",
        "#CUDA 메모리 확인, 상황에 맞게 설정할 것 \n",
        "import GPUtil\n",
        "# GPUtil.showUtilization()\n",
        "\n",
        "# GPU 사용 설정과 random seed 설정\n",
        "print('pytorch version: {}'.format(torch.__version__)) \n",
        "print('GPU 사용 가능 여부: {}'.format(torch.cuda.is_available())) \n",
        "device = \"cuda:0\" if torch.cuda.is_available() else \"cpu\" \n",
        "\n",
        "\n",
        "\n",
        "#device = torch.device(\"cpu\")\n",
        "\n",
        "\n",
        "\n",
        "# 일관된 weight initialization을 위한 random seed 설정\n",
        "torch.manual_seed(777) \n",
        "if device == \"cuda:0\":\n",
        "    torch.cuda.manual_seed_all(777)"
      ],
      "metadata": {
        "id": "0yH1B7wub-gd",
        "colab": {
          "base_uri": "https://localhost:8080/"
        },
        "outputId": "b3916eb3-63dd-4a0f-8ea9-ace418aac4b0"
      },
      "execution_count": 10,
      "outputs": [
        {
          "output_type": "stream",
          "name": "stdout",
          "text": [
            "pytorch version: 1.13.1+cu116\n",
            "GPU 사용 가능 여부: True\n"
          ]
        }
      ]
    },
    {
      "cell_type": "code",
      "source": [
        "\"\"\"\n",
        "transform = transforms.Compose([\n",
        "    transforms.Resize((512, 512)),\n",
        "    transforms.ToTensor()\n",
        "])\n",
        "\n",
        "train_datasets = datasets.ImageFolder(os.path.join('/content/data/MyDrive/deeplearning/train_new/'), transform )\n",
        "\n",
        "print(\"Train 데이터 모양\", train_datasets)\n",
        "\"\"\"\n",
        "\n",
        "\"\"\"\n",
        "meanRGB = [np.mean(x.numpy(), axis=(1,2)) for x,_ in train_datasets]\n",
        "stdRGB = [np.std(x.numpy(), axis=(1,2)) for x,_ in train_datasets]\n",
        "\n",
        "meanR = np.mean([m[0] for m in meanRGB])\n",
        "meanG = np.mean([m[1] for m in meanRGB])\n",
        "meanB = np.mean([m[2] for m in meanRGB])\n",
        "\n",
        "stdR = np.mean([s[0] for s in stdRGB])\n",
        "stdG = np.mean([s[1] for s in stdRGB])\n",
        "stdB = np.mean([s[2] for s in stdRGB])\n",
        "\"\"\"\n",
        "# 512 x 512\n",
        "# meanR, meanG, meanB, stdR, stdG, stdB\n",
        "# ([0.41017398,0.38485712,0.37689483], [0.20070569,0.19670747, 0.18732636])\n"
      ],
      "metadata": {
        "id": "2-iPAzALDQVQ",
        "colab": {
          "base_uri": "https://localhost:8080/",
          "height": 108
        },
        "outputId": "083a5fa2-f6d2-4e2f-fb35-7cb1804084df"
      },
      "execution_count": null,
      "outputs": [
        {
          "output_type": "execute_result",
          "data": {
            "text/plain": [
              "'\\nmeanRGB = [np.mean(x.numpy(), axis=(1,2)) for x,_ in train_datasets]\\nstdRGB = [np.std(x.numpy(), axis=(1,2)) for x,_ in train_datasets]\\n\\nmeanR = np.mean([m[0] for m in meanRGB])\\nmeanG = np.mean([m[1] for m in meanRGB])\\nmeanB = np.mean([m[2] for m in meanRGB])\\n\\nstdR = np.mean([s[0] for s in stdRGB])\\nstdG = np.mean([s[1] for s in stdRGB])\\nstdB = np.mean([s[2] for s in stdRGB])\\n'"
            ],
            "application/vnd.google.colaboratory.intrinsic+json": {
              "type": "string"
            }
          },
          "metadata": {},
          "execution_count": 12
        }
      ]
    },
    {
      "cell_type": "markdown",
      "source": [
        "## 데이터셋 증강"
      ],
      "metadata": {
        "id": "3ww3zBFGGNyL"
      }
    },
    {
      "cell_type": "code",
      "source": [
        "batch_size = 64"
      ],
      "metadata": {
        "id": "FzinHlywx15u"
      },
      "execution_count": 11,
      "outputs": []
    },
    {
      "cell_type": "code",
      "source": [
        "data_dir = \"/content/data/MyDrive/deeplearning/train_new/\"\n",
        "\n",
        "def create_datasets(batch_size):\n",
        "    \n",
        "    train_transform = transforms.Compose([\n",
        "    transforms.RandomHorizontalFlip(),  # 좌우반전 \n",
        "    transforms.RandomVerticalFlip(),  # 상하반전 \n",
        "    transforms.Resize((512, 512)),  # input size\n",
        "    transforms.ToTensor(),  # 이 과정에서 [0, 255]의 범위를 갖는 값들을 [0.0, 1.0]으로 정규화, torch.FloatTensor로 변환\n",
        "    transforms.Normalize([0.41017398,0.38485712,0.37689483], [0.20070569,0.19670747,0.18732636])  #  정규화(normalization)\n",
        "])\n",
        "\n",
        "    # choose the training\n",
        "    train_data = datasets.ImageFolder(os.path.join(data_dir), train_transform)\n",
        "\n",
        "    # trainning set 중 validation 데이터로 사용할 비율\n",
        "    valid_size = 0.3\n",
        "\n",
        "    # validation으로 사용할 trainning indices를 얻는다.\n",
        "    num_train = len(train_data)\n",
        "    indices = list(range(num_train))\n",
        "    np.random.shuffle(indices)\n",
        "    split = int(np.floor(valid_size * num_train))\n",
        "    train_idx, valid_idx = indices[split:], indices[:split]\n",
        "\n",
        "    # trainning, validation batch를 얻기 위한 sampler정의\n",
        "    train_sampler = SubsetRandomSampler(train_idx)\n",
        "    valid_sampler = SubsetRandomSampler(valid_idx)\n",
        "\n",
        "    # load training data in batches\n",
        "    train_loader = torch.utils.data.DataLoader(train_data,\n",
        "                                               batch_size=batch_size,\n",
        "                                               sampler=train_sampler,\n",
        "                                               num_workers=4)\n",
        "\n",
        "    # load validation data in batches\n",
        "    valid_loader = torch.utils.data.DataLoader(train_data,\n",
        "                                               batch_size=batch_size,\n",
        "                                               sampler=valid_sampler,\n",
        "                                               num_workers=4)\n",
        "    \n",
        "\n",
        "    return train_data, train_loader, valid_loader\n",
        "\n",
        "\n",
        "train_data, train_loader, valid_loader = create_datasets(batch_size)"
      ],
      "metadata": {
        "id": "imIGw2S2x175"
      },
      "execution_count": 12,
      "outputs": []
    },
    {
      "cell_type": "code",
      "source": [
        "test_png = sorted(glob('/content/data/MyDrive/deeplearning/test/test/*.png'))\n",
        "\n",
        "train_y = pd.read_csv(\"/content/data/MyDrive/deeplearning/train_df.csv\")\n",
        "train_labels = train_y[\"label\"]\n",
        "label_unique = sorted(np.unique(train_labels))\n",
        "label_unique = {key:value for key,value in zip(label_unique, range(len(label_unique)))}\n",
        "\n",
        "def img_load(path):\n",
        "    img = cv2.imread(path)[:,:,::-1] # opencv는 B,G,R 이기 때문에 R,G,B로 변경해주는 것 \n",
        "    img = cv2.resize(img, (512, 512))\n",
        "    return img # type = numpy.ndarray\n",
        "\n",
        "test_imgs = [img_load(n) for n in tqdm(test_png)]"
      ],
      "metadata": {
        "id": "NQILagq6x1-R",
        "colab": {
          "base_uri": "https://localhost:8080/"
        },
        "outputId": "63a8b0e6-fdcd-40a4-f57a-274f5b0337e9"
      },
      "execution_count": 14,
      "outputs": [
        {
          "output_type": "stream",
          "name": "stderr",
          "text": [
            "\n",
            "  0%|          | 0/2154 [00:00<?, ?it/s]\u001b[A\n",
            "  0%|          | 3/2154 [00:00<01:12, 29.78it/s]\u001b[A\n",
            "  0%|          | 7/2154 [00:00<01:11, 30.05it/s]\u001b[A\n",
            "  1%|          | 11/2154 [00:02<09:35,  3.72it/s]\u001b[A\n",
            "  1%|          | 13/2154 [00:02<09:48,  3.64it/s]\u001b[A\n",
            "  1%|          | 15/2154 [00:03<10:01,  3.56it/s]\u001b[A\n",
            "  1%|          | 16/2154 [00:03<10:24,  3.42it/s]\u001b[A\n",
            "  1%|          | 17/2154 [00:04<11:13,  3.17it/s]\u001b[A\n",
            "  1%|          | 18/2154 [00:04<12:42,  2.80it/s]\u001b[A\n",
            "  1%|          | 19/2154 [00:05<13:14,  2.69it/s]\u001b[A\n",
            "  1%|          | 20/2154 [00:05<14:34,  2.44it/s]\u001b[A\n",
            "  1%|          | 21/2154 [00:06<14:49,  2.40it/s]\u001b[A\n",
            "  1%|          | 22/2154 [00:06<16:38,  2.13it/s]\u001b[A\n",
            "  1%|          | 23/2154 [00:49<7:20:43, 12.41s/it]\u001b[A\n",
            "  1%|          | 25/2154 [00:50<4:05:49,  6.93s/it]\u001b[A\n",
            "  1%|▏         | 27/2154 [00:50<2:31:58,  4.29s/it]\u001b[A\n",
            "  1%|▏         | 28/2154 [00:50<2:00:08,  3.39s/it]\u001b[A\n",
            "  1%|▏         | 29/2154 [00:50<1:33:06,  2.63s/it]\u001b[A\n",
            "  1%|▏         | 30/2154 [00:50<1:11:30,  2.02s/it]\u001b[A\n",
            "  1%|▏         | 31/2154 [00:50<53:37,  1.52s/it]  \u001b[A\n",
            "  2%|▏         | 33/2154 [00:51<32:13,  1.10it/s]\u001b[A\n",
            "  2%|▏         | 35/2154 [00:51<21:05,  1.67it/s]\u001b[A\n",
            "  2%|▏         | 37/2154 [00:51<14:58,  2.36it/s]\u001b[A\n",
            "  2%|▏         | 39/2154 [00:51<11:06,  3.17it/s]\u001b[A\n",
            "  2%|▏         | 41/2154 [00:51<08:22,  4.21it/s]\u001b[A\n",
            "  2%|▏         | 43/2154 [00:52<07:29,  4.70it/s]\u001b[A\n",
            "  2%|▏         | 44/2154 [00:52<06:50,  5.15it/s]\u001b[A\n",
            "  2%|▏         | 46/2154 [00:52<05:07,  6.86it/s]\u001b[A\n",
            "  2%|▏         | 48/2154 [00:52<04:08,  8.49it/s]\u001b[A\n",
            "  2%|▏         | 50/2154 [00:52<03:27, 10.16it/s]\u001b[A\n",
            "  2%|▏         | 52/2154 [00:53<04:33,  7.68it/s]\u001b[A\n",
            "  3%|▎         | 54/2154 [00:53<04:57,  7.07it/s]\u001b[A\n",
            "  3%|▎         | 55/2154 [00:53<05:12,  6.72it/s]\u001b[A\n",
            "  3%|▎         | 57/2154 [00:53<04:37,  7.56it/s]\u001b[A\n",
            "  3%|▎         | 58/2154 [00:53<04:42,  7.42it/s]\u001b[A\n",
            "  3%|▎         | 59/2154 [00:54<04:48,  7.27it/s]\u001b[A\n",
            "  3%|▎         | 60/2154 [00:54<04:57,  7.05it/s]\u001b[A\n",
            "  3%|▎         | 62/2154 [00:54<04:17,  8.12it/s]\u001b[A\n",
            "  3%|▎         | 63/2154 [00:54<04:51,  7.18it/s]\u001b[A\n",
            "  3%|▎         | 65/2154 [00:54<03:50,  9.07it/s]\u001b[A\n",
            "  3%|▎         | 67/2154 [00:54<03:29,  9.97it/s]\u001b[A\n",
            "  3%|▎         | 69/2154 [00:55<03:10, 10.93it/s]\u001b[A\n",
            "  3%|▎         | 71/2154 [00:55<02:43, 12.75it/s]\u001b[A\n",
            "  3%|▎         | 73/2154 [00:55<02:41, 12.90it/s]\u001b[A\n",
            "  3%|▎         | 75/2154 [00:55<02:33, 13.55it/s]\u001b[A\n",
            "  4%|▎         | 77/2154 [00:55<02:31, 13.67it/s]\u001b[A\n",
            "  4%|▎         | 79/2154 [00:55<02:38, 13.07it/s]\u001b[A\n",
            "  4%|▍         | 81/2154 [00:55<02:44, 12.60it/s]\u001b[A\n",
            "  4%|▍         | 83/2154 [00:56<03:26, 10.01it/s]\u001b[A\n",
            "  4%|▍         | 85/2154 [00:56<04:05,  8.41it/s]\u001b[A\n",
            "  4%|▍         | 87/2154 [00:56<03:26,  9.99it/s]\u001b[A\n",
            "  4%|▍         | 89/2154 [00:56<03:20, 10.32it/s]\u001b[A\n",
            "  4%|▍         | 91/2154 [00:56<02:52, 11.93it/s]\u001b[A\n",
            "  4%|▍         | 93/2154 [00:57<02:47, 12.29it/s]\u001b[A\n",
            "  4%|▍         | 95/2154 [00:57<02:45, 12.44it/s]\u001b[A\n",
            "  5%|▍         | 97/2154 [00:57<02:57, 11.58it/s]\u001b[A\n",
            "  5%|▍         | 99/2154 [00:57<02:44, 12.52it/s]\u001b[A\n",
            "  5%|▍         | 101/2154 [00:57<03:01, 11.33it/s]\u001b[A\n",
            "  5%|▍         | 103/2154 [00:58<03:05, 11.07it/s]\u001b[A\n",
            "  5%|▍         | 105/2154 [00:58<03:05, 11.04it/s]\u001b[A\n",
            "  5%|▍         | 107/2154 [00:58<02:41, 12.65it/s]\u001b[A\n",
            "  5%|▌         | 109/2154 [00:58<02:29, 13.64it/s]\u001b[A\n",
            "  5%|▌         | 111/2154 [00:58<03:36,  9.44it/s]\u001b[A\n",
            "  5%|▌         | 113/2154 [00:58<03:14, 10.48it/s]\u001b[A\n",
            "  5%|▌         | 115/2154 [00:59<02:52, 11.80it/s]\u001b[A\n",
            "  5%|▌         | 117/2154 [00:59<02:38, 12.82it/s]\u001b[A\n",
            "  6%|▌         | 119/2154 [00:59<02:28, 13.69it/s]\u001b[A\n",
            "  6%|▌         | 121/2154 [00:59<02:19, 14.52it/s]\u001b[A\n",
            "  6%|▌         | 123/2154 [00:59<02:09, 15.74it/s]\u001b[A\n",
            "  6%|▌         | 125/2154 [00:59<02:03, 16.49it/s]\u001b[A\n",
            "  6%|▌         | 128/2154 [00:59<01:45, 19.12it/s]\u001b[A\n",
            "  6%|▌         | 132/2154 [00:59<01:22, 24.52it/s]\u001b[A\n",
            "  6%|▋         | 135/2154 [00:59<01:19, 25.45it/s]\u001b[A\n",
            "  6%|▋         | 139/2154 [01:00<01:11, 28.38it/s]\u001b[A\n",
            "  7%|▋         | 142/2154 [01:00<01:15, 26.79it/s]\u001b[A\n",
            "  7%|▋         | 145/2154 [01:00<01:15, 26.58it/s]\u001b[A\n",
            "  7%|▋         | 148/2154 [01:00<01:15, 26.60it/s]\u001b[A\n",
            "  7%|▋         | 151/2154 [01:00<01:13, 27.40it/s]\u001b[A\n",
            "  7%|▋         | 154/2154 [01:00<01:16, 26.04it/s]\u001b[A\n",
            "  7%|▋         | 158/2154 [01:00<01:09, 28.64it/s]\u001b[A\n",
            "  8%|▊         | 162/2154 [01:00<01:05, 30.49it/s]\u001b[A\n",
            "  8%|▊         | 166/2154 [01:01<01:06, 29.88it/s]\u001b[A\n",
            "  8%|▊         | 170/2154 [01:01<01:04, 30.69it/s]\u001b[A\n",
            "  8%|▊         | 174/2154 [01:01<01:07, 29.26it/s]\u001b[A\n",
            "  8%|▊         | 177/2154 [01:01<01:09, 28.38it/s]\u001b[A\n",
            "  8%|▊         | 181/2154 [01:01<01:07, 29.40it/s]\u001b[A\n",
            "  9%|▊         | 184/2154 [01:01<01:09, 28.32it/s]\u001b[A\n",
            "  9%|▊         | 187/2154 [01:01<01:12, 26.99it/s]\u001b[A\n",
            "  9%|▉         | 190/2154 [01:01<01:13, 26.75it/s]\u001b[A\n",
            "  9%|▉         | 193/2154 [01:02<01:29, 22.01it/s]\u001b[A\n",
            "  9%|▉         | 196/2154 [01:02<01:22, 23.63it/s]\u001b[A\n",
            "  9%|▉         | 200/2154 [01:02<01:18, 24.94it/s]\u001b[A\n",
            "  9%|▉         | 203/2154 [01:02<01:17, 25.10it/s]\u001b[A\n",
            " 10%|▉         | 206/2154 [01:02<01:14, 26.07it/s]\u001b[A\n",
            " 10%|▉         | 209/2154 [01:02<01:12, 26.70it/s]\u001b[A\n",
            " 10%|▉         | 212/2154 [01:02<01:12, 26.93it/s]\u001b[A\n",
            " 10%|█         | 216/2154 [01:02<01:08, 28.18it/s]\u001b[A\n",
            " 10%|█         | 219/2154 [01:03<01:11, 27.23it/s]\u001b[A\n",
            " 10%|█         | 222/2154 [01:03<01:09, 27.78it/s]\u001b[A\n",
            " 10%|█         | 226/2154 [01:03<01:03, 30.38it/s]\u001b[A\n",
            " 11%|█         | 230/2154 [01:03<01:07, 28.67it/s]\u001b[A\n",
            " 11%|█         | 234/2154 [01:03<01:03, 30.41it/s]\u001b[A\n",
            " 11%|█         | 238/2154 [01:03<01:03, 30.08it/s]\u001b[A\n",
            " 11%|█         | 242/2154 [01:03<01:05, 29.10it/s]\u001b[A\n",
            " 11%|█▏        | 245/2154 [01:03<01:05, 29.07it/s]\u001b[A\n",
            " 12%|█▏        | 248/2154 [01:04<01:06, 28.63it/s]\u001b[A\n",
            " 12%|█▏        | 251/2154 [01:04<01:09, 27.20it/s]\u001b[A\n",
            " 12%|█▏        | 254/2154 [01:04<01:12, 26.15it/s]\u001b[A\n",
            " 12%|█▏        | 259/2154 [01:04<01:02, 30.35it/s]\u001b[A\n",
            " 12%|█▏        | 263/2154 [01:04<01:03, 29.66it/s]\u001b[A\n",
            " 12%|█▏        | 266/2154 [01:04<01:11, 26.39it/s]\u001b[A\n",
            " 12%|█▏        | 269/2154 [01:04<01:16, 24.49it/s]\u001b[A\n",
            " 13%|█▎        | 272/2154 [01:04<01:25, 21.94it/s]\u001b[A\n",
            " 13%|█▎        | 275/2154 [01:05<01:36, 19.55it/s]\u001b[A\n",
            " 13%|█▎        | 278/2154 [01:05<01:42, 18.32it/s]\u001b[A\n",
            " 13%|█▎        | 281/2154 [01:05<01:37, 19.16it/s]\u001b[A\n",
            " 13%|█▎        | 283/2154 [01:05<01:49, 17.02it/s]\u001b[A\n",
            " 13%|█▎        | 286/2154 [01:05<01:41, 18.37it/s]\u001b[A\n",
            " 13%|█▎        | 288/2154 [01:05<01:39, 18.67it/s]\u001b[A\n",
            " 14%|█▎        | 291/2154 [01:06<01:33, 19.91it/s]\u001b[A\n",
            " 14%|█▎        | 294/2154 [01:06<01:34, 19.73it/s]\u001b[A\n",
            " 14%|█▍        | 297/2154 [01:06<01:33, 19.80it/s]\u001b[A\n",
            " 14%|█▍        | 299/2154 [01:06<01:39, 18.71it/s]\u001b[A\n",
            " 14%|█▍        | 301/2154 [01:06<01:44, 17.73it/s]\u001b[A\n",
            " 14%|█▍        | 303/2154 [01:06<01:43, 17.96it/s]\u001b[A\n",
            " 14%|█▍        | 305/2154 [01:06<01:43, 17.93it/s]\u001b[A\n",
            " 14%|█▍        | 307/2154 [01:06<01:41, 18.21it/s]\u001b[A\n",
            " 14%|█▍        | 309/2154 [01:07<01:44, 17.74it/s]\u001b[A\n",
            " 14%|█▍        | 311/2154 [01:07<01:40, 18.31it/s]\u001b[A\n",
            " 15%|█▍        | 314/2154 [01:07<01:32, 19.85it/s]\u001b[A\n",
            " 15%|█▍        | 316/2154 [01:07<01:40, 18.25it/s]\u001b[A\n",
            " 15%|█▍        | 318/2154 [01:07<01:47, 17.09it/s]\u001b[A\n",
            " 15%|█▍        | 321/2154 [01:07<01:44, 17.57it/s]\u001b[A\n",
            " 15%|█▌        | 324/2154 [01:07<01:39, 18.44it/s]\u001b[A\n",
            " 15%|█▌        | 326/2154 [01:08<01:47, 17.02it/s]\u001b[A\n",
            " 15%|█▌        | 329/2154 [01:08<01:39, 18.29it/s]\u001b[A\n",
            " 15%|█▌        | 331/2154 [01:08<01:43, 17.67it/s]\u001b[A\n",
            " 16%|█▌        | 334/2154 [01:08<01:42, 17.74it/s]\u001b[A\n",
            " 16%|█▌        | 336/2154 [01:08<01:45, 17.19it/s]\u001b[A\n",
            " 16%|█▌        | 338/2154 [01:08<01:44, 17.45it/s]\u001b[A\n",
            " 16%|█▌        | 341/2154 [01:08<01:37, 18.69it/s]\u001b[A\n",
            " 16%|█▌        | 344/2154 [01:08<01:26, 20.82it/s]\u001b[A\n",
            " 16%|█▌        | 347/2154 [01:09<01:26, 20.80it/s]\u001b[A\n",
            " 16%|█▌        | 350/2154 [01:09<01:34, 18.99it/s]\u001b[A\n",
            " 16%|█▋        | 352/2154 [01:09<01:41, 17.79it/s]\u001b[A\n",
            " 16%|█▋        | 354/2154 [01:09<01:51, 16.12it/s]\u001b[A\n",
            " 17%|█▋        | 356/2154 [01:09<02:03, 14.56it/s]\u001b[A\n",
            " 17%|█▋        | 358/2154 [01:09<02:15, 13.29it/s]\u001b[A\n",
            " 17%|█▋        | 360/2154 [01:10<02:36, 11.44it/s]\u001b[A\n",
            " 17%|█▋        | 362/2154 [01:10<02:20, 12.76it/s]\u001b[A\n",
            " 17%|█▋        | 364/2154 [01:10<02:25, 12.30it/s]\u001b[A\n",
            " 17%|█▋        | 366/2154 [01:10<02:21, 12.63it/s]\u001b[A\n",
            " 17%|█▋        | 368/2154 [01:10<02:07, 13.99it/s]\u001b[A\n",
            " 17%|█▋        | 370/2154 [01:10<02:12, 13.43it/s]\u001b[A\n",
            " 17%|█▋        | 372/2154 [01:11<02:07, 13.93it/s]\u001b[A\n",
            " 17%|█▋        | 374/2154 [01:11<02:04, 14.30it/s]\u001b[A\n",
            " 17%|█▋        | 376/2154 [01:11<02:21, 12.58it/s]\u001b[A\n",
            " 18%|█▊        | 378/2154 [01:11<03:14,  9.15it/s]\u001b[A\n",
            " 18%|█▊        | 380/2154 [01:11<03:29,  8.45it/s]\u001b[A\n",
            " 18%|█▊        | 382/2154 [01:12<03:07,  9.44it/s]\u001b[A\n",
            " 18%|█▊        | 384/2154 [01:12<03:01,  9.75it/s]\u001b[A\n",
            " 18%|█▊        | 386/2154 [01:12<03:03,  9.65it/s]\u001b[A\n",
            " 18%|█▊        | 388/2154 [01:12<02:57,  9.92it/s]\u001b[A\n",
            " 18%|█▊        | 390/2154 [01:13<03:29,  8.41it/s]\u001b[A\n",
            " 18%|█▊        | 391/2154 [01:13<03:23,  8.64it/s]\u001b[A\n",
            " 18%|█▊        | 394/2154 [01:13<02:36, 11.27it/s]\u001b[A\n",
            " 18%|█▊        | 396/2154 [01:13<02:39, 11.02it/s]\u001b[A\n",
            " 18%|█▊        | 398/2154 [01:13<03:00,  9.74it/s]\u001b[A\n",
            " 19%|█▊        | 400/2154 [01:13<02:57,  9.87it/s]\u001b[A\n",
            " 19%|█▊        | 402/2154 [01:14<02:49, 10.31it/s]\u001b[A\n",
            " 19%|█▉        | 404/2154 [01:14<02:44, 10.66it/s]\u001b[A\n",
            " 19%|█▉        | 407/2154 [01:14<02:08, 13.61it/s]\u001b[A\n",
            " 19%|█▉        | 409/2154 [01:14<02:19, 12.46it/s]\u001b[A\n",
            " 19%|█▉        | 411/2154 [01:14<02:15, 12.90it/s]\u001b[A\n",
            " 19%|█▉        | 413/2154 [01:14<02:06, 13.74it/s]\u001b[A\n",
            " 19%|█▉        | 415/2154 [01:15<02:04, 13.98it/s]\u001b[A\n",
            " 19%|█▉        | 417/2154 [01:15<02:06, 13.75it/s]\u001b[A\n",
            " 19%|█▉        | 419/2154 [01:15<02:02, 14.17it/s]\u001b[A\n",
            " 20%|█▉        | 421/2154 [01:15<01:54, 15.16it/s]\u001b[A\n",
            " 20%|█▉        | 424/2154 [01:15<01:46, 16.26it/s]\u001b[A\n",
            " 20%|█▉        | 427/2154 [01:15<01:31, 18.87it/s]\u001b[A\n",
            " 20%|█▉        | 430/2154 [01:15<01:24, 20.38it/s]\u001b[A\n",
            " 20%|██        | 433/2154 [01:15<01:16, 22.52it/s]\u001b[A\n",
            " 20%|██        | 437/2154 [01:16<01:08, 24.90it/s]\u001b[A\n",
            " 20%|██        | 440/2154 [01:16<01:08, 25.16it/s]\u001b[A\n",
            " 21%|██        | 444/2154 [01:16<01:03, 27.08it/s]\u001b[A\n",
            " 21%|██        | 447/2154 [01:16<01:08, 24.88it/s]\u001b[A\n",
            " 21%|██        | 451/2154 [01:16<01:05, 26.02it/s]\u001b[A\n",
            " 21%|██        | 454/2154 [01:16<01:05, 25.89it/s]\u001b[A\n",
            " 21%|██        | 457/2154 [01:16<01:06, 25.45it/s]\u001b[A\n",
            " 21%|██▏       | 460/2154 [01:16<01:07, 24.98it/s]\u001b[A\n",
            " 21%|██▏       | 463/2154 [01:17<01:10, 24.12it/s]\u001b[A\n",
            " 22%|██▏       | 466/2154 [01:17<01:10, 24.07it/s]\u001b[A\n",
            " 22%|██▏       | 469/2154 [01:17<01:08, 24.74it/s]\u001b[A\n",
            " 22%|██▏       | 472/2154 [01:17<01:05, 25.49it/s]\u001b[A\n",
            " 22%|██▏       | 475/2154 [01:17<01:03, 26.49it/s]\u001b[A\n",
            " 22%|██▏       | 478/2154 [01:17<01:02, 26.95it/s]\u001b[A\n",
            " 22%|██▏       | 481/2154 [01:17<01:00, 27.66it/s]\u001b[A\n",
            " 22%|██▏       | 484/2154 [01:17<01:00, 27.73it/s]\u001b[A\n",
            " 23%|██▎       | 487/2154 [01:17<01:02, 26.89it/s]\u001b[A\n",
            " 23%|██▎       | 491/2154 [01:18<00:58, 28.23it/s]\u001b[A\n",
            " 23%|██▎       | 494/2154 [01:18<01:01, 27.16it/s]\u001b[A\n",
            " 23%|██▎       | 497/2154 [01:18<01:03, 26.13it/s]\u001b[A\n",
            " 23%|██▎       | 500/2154 [01:18<01:01, 26.91it/s]\u001b[A\n",
            " 23%|██▎       | 504/2154 [01:18<00:57, 28.59it/s]\u001b[A\n",
            " 24%|██▎       | 508/2154 [01:18<00:56, 29.18it/s]\u001b[A\n",
            " 24%|██▎       | 511/2154 [01:18<01:03, 26.05it/s]\u001b[A\n",
            " 24%|██▍       | 514/2154 [01:18<01:06, 24.62it/s]\u001b[A\n",
            " 24%|██▍       | 517/2154 [01:19<01:17, 21.17it/s]\u001b[A\n",
            " 24%|██▍       | 520/2154 [01:19<01:17, 21.12it/s]\u001b[A\n",
            " 24%|██▍       | 523/2154 [01:19<01:21, 19.90it/s]\u001b[A\n",
            " 24%|██▍       | 526/2154 [01:19<01:21, 20.06it/s]\u001b[A\n",
            " 25%|██▍       | 529/2154 [01:19<01:21, 19.85it/s]\u001b[A\n",
            " 25%|██▍       | 532/2154 [01:19<01:30, 18.02it/s]\u001b[A\n",
            " 25%|██▍       | 534/2154 [01:20<01:31, 17.69it/s]\u001b[A\n",
            " 25%|██▍       | 536/2154 [01:20<01:28, 18.18it/s]\u001b[A\n",
            " 25%|██▍       | 538/2154 [01:20<01:26, 18.61it/s]\u001b[A\n",
            " 25%|██▌       | 541/2154 [01:20<01:26, 18.63it/s]\u001b[A\n",
            " 25%|██▌       | 543/2154 [01:20<01:31, 17.54it/s]\u001b[A\n",
            " 25%|██▌       | 545/2154 [01:20<01:31, 17.55it/s]\u001b[A\n",
            " 25%|██▌       | 547/2154 [01:20<01:35, 16.89it/s]\u001b[A\n",
            " 26%|██▌       | 550/2154 [01:20<01:25, 18.84it/s]\u001b[A\n",
            " 26%|██▌       | 552/2154 [01:21<01:34, 16.98it/s]\u001b[A\n",
            " 26%|██▌       | 555/2154 [01:21<01:25, 18.70it/s]\u001b[A\n",
            " 26%|██▌       | 558/2154 [01:21<01:19, 20.09it/s]\u001b[A\n",
            " 26%|██▌       | 561/2154 [01:21<01:22, 19.35it/s]\u001b[A\n",
            " 26%|██▌       | 563/2154 [01:21<01:25, 18.56it/s]\u001b[A\n",
            " 26%|██▌       | 565/2154 [01:21<01:35, 16.60it/s]\u001b[A\n",
            " 26%|██▋       | 568/2154 [01:21<01:25, 18.55it/s]\u001b[A\n",
            " 27%|██▋       | 571/2154 [01:22<01:21, 19.35it/s]\u001b[A\n",
            " 27%|██▋       | 573/2154 [01:22<01:26, 18.23it/s]\u001b[A\n",
            " 27%|██▋       | 575/2154 [01:22<01:27, 17.96it/s]\u001b[A\n",
            " 27%|██▋       | 578/2154 [01:22<01:22, 19.04it/s]\u001b[A\n",
            " 27%|██▋       | 581/2154 [01:22<01:14, 21.17it/s]\u001b[A\n",
            " 27%|██▋       | 584/2154 [01:22<01:15, 20.76it/s]\u001b[A\n",
            " 27%|██▋       | 587/2154 [01:22<01:23, 18.69it/s]\u001b[A\n",
            " 27%|██▋       | 589/2154 [01:23<01:24, 18.63it/s]\u001b[A\n",
            " 27%|██▋       | 591/2154 [01:23<01:25, 18.24it/s]\u001b[A\n",
            " 28%|██▊       | 593/2154 [01:23<01:23, 18.64it/s]\u001b[A\n",
            " 28%|██▊       | 596/2154 [01:23<01:13, 21.19it/s]\u001b[A\n",
            " 28%|██▊       | 599/2154 [01:23<01:08, 22.66it/s]\u001b[A\n",
            " 28%|██▊       | 602/2154 [01:23<01:05, 23.71it/s]\u001b[A\n",
            " 28%|██▊       | 605/2154 [01:23<01:08, 22.53it/s]\u001b[A\n",
            " 28%|██▊       | 608/2154 [01:23<01:09, 22.22it/s]\u001b[A\n",
            " 28%|██▊       | 612/2154 [01:24<01:01, 25.17it/s]\u001b[A\n",
            " 29%|██▊       | 615/2154 [01:24<01:06, 23.28it/s]\u001b[A\n",
            " 29%|██▊       | 618/2154 [01:24<01:03, 24.31it/s]\u001b[A\n",
            " 29%|██▉       | 621/2154 [01:24<01:08, 22.34it/s]\u001b[A\n",
            " 29%|██▉       | 624/2154 [01:24<01:03, 23.98it/s]\u001b[A\n",
            " 29%|██▉       | 628/2154 [01:24<00:58, 26.00it/s]\u001b[A\n",
            " 29%|██▉       | 631/2154 [01:24<01:01, 24.76it/s]\u001b[A\n",
            " 29%|██▉       | 634/2154 [01:24<00:59, 25.35it/s]\u001b[A\n",
            " 30%|██▉       | 637/2154 [01:25<01:00, 25.08it/s]\u001b[A\n",
            " 30%|██▉       | 640/2154 [01:25<01:02, 24.33it/s]\u001b[A\n",
            " 30%|██▉       | 643/2154 [01:25<01:04, 23.33it/s]\u001b[A\n",
            " 30%|██▉       | 646/2154 [01:25<01:02, 24.20it/s]\u001b[A\n",
            " 30%|███       | 649/2154 [01:25<01:01, 24.29it/s]\u001b[A\n",
            " 30%|███       | 652/2154 [01:25<01:02, 23.84it/s]\u001b[A\n",
            " 30%|███       | 655/2154 [01:25<01:00, 24.87it/s]\u001b[A\n",
            " 31%|███       | 658/2154 [01:25<00:58, 25.37it/s]\u001b[A\n",
            " 31%|███       | 661/2154 [01:26<01:00, 24.68it/s]\u001b[A\n",
            " 31%|███       | 664/2154 [01:26<00:59, 25.20it/s]\u001b[A\n",
            " 31%|███       | 668/2154 [01:26<00:55, 26.66it/s]\u001b[A\n",
            " 31%|███       | 671/2154 [01:26<00:54, 27.32it/s]\u001b[A\n",
            " 31%|███▏      | 675/2154 [01:26<00:49, 30.09it/s]\u001b[A\n",
            " 32%|███▏      | 679/2154 [01:26<00:54, 27.17it/s]\u001b[A\n",
            " 32%|███▏      | 682/2154 [01:26<00:55, 26.33it/s]\u001b[A\n",
            " 32%|███▏      | 685/2154 [01:26<00:55, 26.51it/s]\u001b[A\n",
            " 32%|███▏      | 688/2154 [01:27<00:54, 26.86it/s]\u001b[A\n",
            " 32%|███▏      | 692/2154 [01:27<00:54, 26.89it/s]\u001b[A\n",
            " 32%|███▏      | 696/2154 [01:27<00:50, 28.91it/s]\u001b[A\n",
            " 32%|███▏      | 699/2154 [01:27<00:53, 27.27it/s]\u001b[A\n",
            " 33%|███▎      | 702/2154 [01:27<00:55, 26.23it/s]\u001b[A\n",
            " 33%|███▎      | 705/2154 [01:27<00:54, 26.44it/s]\u001b[A\n",
            " 33%|███▎      | 708/2154 [01:27<00:57, 25.20it/s]\u001b[A\n",
            " 33%|███▎      | 711/2154 [01:27<00:57, 25.10it/s]\u001b[A\n",
            " 33%|███▎      | 715/2154 [01:28<00:55, 25.74it/s]\u001b[A\n",
            " 33%|███▎      | 718/2154 [01:28<00:58, 24.38it/s]\u001b[A\n",
            " 33%|███▎      | 721/2154 [01:28<00:55, 25.61it/s]\u001b[A\n",
            " 34%|███▎      | 724/2154 [01:28<00:56, 25.12it/s]\u001b[A\n",
            " 34%|███▍      | 728/2154 [01:28<00:54, 26.10it/s]\u001b[A\n",
            " 34%|███▍      | 732/2154 [01:28<00:50, 28.02it/s]\u001b[A\n",
            " 34%|███▍      | 735/2154 [01:28<00:52, 27.16it/s]\u001b[A\n",
            " 34%|███▍      | 738/2154 [01:28<00:51, 27.63it/s]\u001b[A\n",
            " 34%|███▍      | 741/2154 [01:29<00:53, 26.22it/s]\u001b[A\n",
            " 35%|███▍      | 745/2154 [01:29<00:49, 28.44it/s]\u001b[A\n",
            " 35%|███▍      | 749/2154 [01:29<00:46, 30.38it/s]\u001b[A\n",
            " 35%|███▍      | 753/2154 [01:29<00:44, 31.34it/s]\u001b[A\n",
            " 35%|███▌      | 757/2154 [01:29<00:48, 28.72it/s]\u001b[A\n",
            " 35%|███▌      | 761/2154 [01:29<00:47, 29.61it/s]\u001b[A\n",
            " 36%|███▌      | 765/2154 [01:29<00:50, 27.73it/s]\u001b[A\n",
            " 36%|███▌      | 768/2154 [01:29<00:49, 28.08it/s]\u001b[A\n",
            " 36%|███▌      | 772/2154 [01:30<00:49, 27.70it/s]\u001b[A\n",
            " 36%|███▌      | 775/2154 [01:30<00:51, 26.74it/s]\u001b[A\n",
            " 36%|███▌      | 778/2154 [01:30<00:50, 27.36it/s]\u001b[A\n",
            " 36%|███▋      | 781/2154 [01:30<00:52, 26.22it/s]\u001b[A\n",
            " 36%|███▋      | 784/2154 [01:30<00:53, 25.46it/s]\u001b[A\n",
            " 37%|███▋      | 787/2154 [01:30<00:59, 23.16it/s]\u001b[A\n",
            " 37%|███▋      | 790/2154 [01:30<00:58, 23.17it/s]\u001b[A\n",
            " 37%|███▋      | 793/2154 [01:30<00:57, 23.85it/s]\u001b[A\n",
            " 37%|███▋      | 796/2154 [01:31<00:56, 23.89it/s]\u001b[A\n",
            " 37%|███▋      | 799/2154 [01:31<00:56, 24.03it/s]\u001b[A\n",
            " 37%|███▋      | 803/2154 [01:31<00:50, 26.94it/s]\u001b[A\n",
            " 37%|███▋      | 806/2154 [01:31<00:50, 26.71it/s]\u001b[A\n",
            " 38%|███▊      | 810/2154 [01:31<00:46, 28.61it/s]\u001b[A\n",
            " 38%|███▊      | 813/2154 [01:31<00:50, 26.64it/s]\u001b[A\n",
            " 38%|███▊      | 816/2154 [01:31<00:51, 26.10it/s]\u001b[A\n",
            " 38%|███▊      | 820/2154 [01:31<00:47, 27.93it/s]\u001b[A\n",
            " 38%|███▊      | 823/2154 [01:32<00:49, 26.70it/s]\u001b[A\n",
            " 38%|███▊      | 826/2154 [01:32<00:49, 26.82it/s]\u001b[A\n",
            " 38%|███▊      | 829/2154 [01:32<00:56, 23.54it/s]\u001b[A\n",
            " 39%|███▊      | 832/2154 [01:32<00:53, 24.70it/s]\u001b[A\n",
            " 39%|███▉      | 835/2154 [01:32<00:54, 24.35it/s]\u001b[A\n",
            " 39%|███▉      | 839/2154 [01:32<00:51, 25.74it/s]\u001b[A\n",
            " 39%|███▉      | 842/2154 [01:32<00:50, 26.18it/s]\u001b[A\n",
            " 39%|███▉      | 846/2154 [01:32<00:48, 26.70it/s]\u001b[A\n",
            " 39%|███▉      | 849/2154 [01:33<00:49, 26.31it/s]\u001b[A\n",
            " 40%|███▉      | 852/2154 [01:33<00:50, 25.71it/s]\u001b[A\n",
            " 40%|███▉      | 855/2154 [01:33<00:55, 23.60it/s]\u001b[A\n",
            " 40%|███▉      | 858/2154 [01:33<01:00, 21.55it/s]\u001b[A\n",
            " 40%|███▉      | 861/2154 [01:33<01:00, 21.45it/s]\u001b[A\n",
            " 40%|████      | 864/2154 [01:33<01:00, 21.40it/s]\u001b[A\n",
            " 40%|████      | 867/2154 [01:34<01:04, 19.82it/s]\u001b[A\n",
            " 40%|████      | 870/2154 [01:34<01:06, 19.30it/s]\u001b[A\n",
            " 40%|████      | 872/2154 [01:34<01:09, 18.37it/s]\u001b[A\n",
            " 41%|████      | 875/2154 [01:34<01:03, 20.15it/s]\u001b[A\n",
            " 41%|████      | 878/2154 [01:34<01:07, 18.96it/s]\u001b[A\n",
            " 41%|████      | 880/2154 [01:34<01:14, 17.21it/s]\u001b[A\n",
            " 41%|████      | 882/2154 [01:34<01:15, 16.95it/s]\u001b[A\n",
            " 41%|████      | 885/2154 [01:35<01:09, 18.16it/s]\u001b[A\n",
            " 41%|████      | 888/2154 [01:35<01:01, 20.45it/s]\u001b[A\n",
            " 41%|████▏     | 891/2154 [01:35<01:03, 20.05it/s]\u001b[A\n",
            " 42%|████▏     | 894/2154 [01:35<01:02, 20.22it/s]\u001b[A\n",
            " 42%|████▏     | 897/2154 [01:35<01:02, 20.20it/s]\u001b[A\n",
            " 42%|████▏     | 900/2154 [01:35<01:01, 20.44it/s]\u001b[A\n",
            " 42%|████▏     | 903/2154 [01:35<01:00, 20.75it/s]\u001b[A\n",
            " 42%|████▏     | 906/2154 [01:36<01:01, 20.29it/s]\u001b[A\n",
            " 42%|████▏     | 909/2154 [01:36<01:04, 19.32it/s]\u001b[A\n",
            " 42%|████▏     | 912/2154 [01:36<00:58, 21.28it/s]\u001b[A\n",
            " 42%|████▏     | 915/2154 [01:36<01:02, 19.98it/s]\u001b[A\n",
            " 43%|████▎     | 918/2154 [01:36<00:57, 21.45it/s]\u001b[A\n",
            " 43%|████▎     | 921/2154 [01:36<01:02, 19.66it/s]\u001b[A\n",
            " 43%|████▎     | 924/2154 [01:36<01:02, 19.84it/s]\u001b[A\n",
            " 43%|████▎     | 927/2154 [01:37<01:04, 19.11it/s]\u001b[A\n",
            " 43%|████▎     | 929/2154 [01:37<01:07, 18.07it/s]\u001b[A\n",
            " 43%|████▎     | 931/2154 [01:37<01:08, 17.98it/s]\u001b[A\n",
            " 43%|████▎     | 933/2154 [01:37<01:09, 17.57it/s]\u001b[A\n",
            " 43%|████▎     | 935/2154 [01:37<01:07, 18.00it/s]\u001b[A\n",
            " 44%|████▎     | 938/2154 [01:37<01:03, 19.24it/s]\u001b[A\n",
            " 44%|████▎     | 941/2154 [01:37<01:00, 19.93it/s]\u001b[A\n",
            " 44%|████▍     | 944/2154 [01:37<00:54, 22.04it/s]\u001b[A\n",
            " 44%|████▍     | 948/2154 [01:38<00:48, 24.79it/s]\u001b[A\n",
            " 44%|████▍     | 951/2154 [01:38<00:52, 23.12it/s]\u001b[A\n",
            " 44%|████▍     | 955/2154 [01:38<00:46, 26.04it/s]\u001b[A\n",
            " 44%|████▍     | 958/2154 [01:38<00:46, 25.58it/s]\u001b[A\n",
            " 45%|████▍     | 961/2154 [01:38<00:45, 25.99it/s]\u001b[A\n",
            " 45%|████▍     | 964/2154 [01:38<00:44, 26.90it/s]\u001b[A\n",
            " 45%|████▍     | 967/2154 [01:38<00:48, 24.27it/s]\u001b[A\n",
            " 45%|████▌     | 970/2154 [01:38<00:50, 23.49it/s]\u001b[A\n",
            " 45%|████▌     | 973/2154 [01:39<00:52, 22.61it/s]\u001b[A\n",
            " 45%|████▌     | 976/2154 [01:39<00:51, 22.76it/s]\u001b[A\n",
            " 45%|████▌     | 979/2154 [01:39<00:50, 23.39it/s]\u001b[A\n",
            " 46%|████▌     | 982/2154 [01:39<00:49, 23.67it/s]\u001b[A\n",
            " 46%|████▌     | 985/2154 [01:39<00:48, 24.21it/s]\u001b[A\n",
            " 46%|████▌     | 989/2154 [01:39<00:42, 27.34it/s]\u001b[A\n",
            " 46%|████▌     | 993/2154 [01:39<00:42, 27.54it/s]\u001b[A\n",
            " 46%|████▌     | 996/2154 [01:39<00:43, 26.35it/s]\u001b[A\n",
            " 46%|████▋     | 999/2154 [01:40<00:47, 24.46it/s]\u001b[A\n",
            " 47%|████▋     | 1002/2154 [01:40<01:20, 14.27it/s]\u001b[A\n",
            " 47%|████▋     | 1004/2154 [01:40<01:29, 12.84it/s]\u001b[A\n",
            " 47%|████▋     | 1006/2154 [01:40<01:22, 13.94it/s]\u001b[A\n",
            " 47%|████▋     | 1009/2154 [01:41<01:10, 16.16it/s]\u001b[A\n",
            " 47%|████▋     | 1013/2154 [01:41<00:57, 20.01it/s]\u001b[A\n",
            " 47%|████▋     | 1016/2154 [01:41<00:52, 21.86it/s]\u001b[A\n",
            " 47%|████▋     | 1019/2154 [01:41<00:49, 23.03it/s]\u001b[A\n",
            " 47%|████▋     | 1022/2154 [01:41<00:45, 24.66it/s]\u001b[A\n",
            " 48%|████▊     | 1026/2154 [01:41<00:42, 26.71it/s]\u001b[A\n",
            " 48%|████▊     | 1030/2154 [01:41<00:37, 29.61it/s]\u001b[A\n",
            " 48%|████▊     | 1034/2154 [01:41<00:40, 27.45it/s]\u001b[A\n",
            " 48%|████▊     | 1037/2154 [01:41<00:40, 27.72it/s]\u001b[A\n",
            " 48%|████▊     | 1040/2154 [01:42<00:42, 26.30it/s]\u001b[A\n",
            " 48%|████▊     | 1043/2154 [01:42<00:41, 27.01it/s]\u001b[A\n",
            " 49%|████▊     | 1046/2154 [01:42<00:41, 26.99it/s]\u001b[A\n",
            " 49%|████▊     | 1049/2154 [01:42<00:43, 25.54it/s]\u001b[A\n",
            " 49%|████▉     | 1052/2154 [01:42<00:45, 24.05it/s]\u001b[A\n",
            " 49%|████▉     | 1055/2154 [01:42<00:45, 24.02it/s]\u001b[A\n",
            " 49%|████▉     | 1058/2154 [01:42<00:50, 21.68it/s]\u001b[A\n",
            " 49%|████▉     | 1062/2154 [01:42<00:44, 24.60it/s]\u001b[A\n",
            " 49%|████▉     | 1066/2154 [01:43<00:40, 26.98it/s]\u001b[A\n",
            " 50%|████▉     | 1069/2154 [01:43<00:40, 26.91it/s]\u001b[A\n",
            " 50%|████▉     | 1072/2154 [01:43<00:41, 26.03it/s]\u001b[A\n",
            " 50%|████▉     | 1075/2154 [01:43<00:41, 26.02it/s]\u001b[A\n",
            " 50%|█████     | 1078/2154 [01:43<00:42, 25.39it/s]\u001b[A\n",
            " 50%|█████     | 1082/2154 [01:43<00:40, 26.32it/s]\u001b[A\n",
            " 50%|█████     | 1085/2154 [01:43<00:39, 26.95it/s]\u001b[A\n",
            " 51%|█████     | 1088/2154 [01:43<00:41, 25.43it/s]\u001b[A\n",
            " 51%|█████     | 1092/2154 [01:44<00:36, 28.78it/s]\u001b[A\n",
            " 51%|█████     | 1095/2154 [01:44<00:39, 27.10it/s]\u001b[A\n",
            " 51%|█████     | 1098/2154 [01:44<00:39, 26.94it/s]\u001b[A\n",
            " 51%|█████     | 1101/2154 [01:44<00:41, 25.09it/s]\u001b[A\n",
            " 51%|█████▏    | 1105/2154 [01:44<00:38, 27.52it/s]\u001b[A\n",
            " 51%|█████▏    | 1109/2154 [01:44<00:38, 27.32it/s]\u001b[A\n",
            " 52%|█████▏    | 1112/2154 [01:44<00:38, 26.77it/s]\u001b[A\n",
            " 52%|█████▏    | 1115/2154 [01:44<00:38, 27.00it/s]\u001b[A\n",
            " 52%|█████▏    | 1118/2154 [01:45<00:39, 26.32it/s]\u001b[A\n",
            " 52%|█████▏    | 1121/2154 [01:45<00:38, 27.11it/s]\u001b[A\n",
            " 52%|█████▏    | 1124/2154 [01:45<00:37, 27.83it/s]\u001b[A\n",
            " 52%|█████▏    | 1127/2154 [01:45<00:38, 26.39it/s]\u001b[A\n",
            " 52%|█████▏    | 1130/2154 [01:45<00:39, 25.65it/s]\u001b[A\n",
            " 53%|█████▎    | 1133/2154 [01:45<00:42, 24.28it/s]\u001b[A\n",
            " 53%|█████▎    | 1136/2154 [01:45<00:41, 24.36it/s]\u001b[A\n",
            " 53%|█████▎    | 1139/2154 [01:45<00:40, 25.25it/s]\u001b[A\n",
            " 53%|█████▎    | 1142/2154 [01:46<00:41, 24.62it/s]\u001b[A\n",
            " 53%|█████▎    | 1145/2154 [01:46<00:42, 23.84it/s]\u001b[A\n",
            " 53%|█████▎    | 1148/2154 [01:46<00:41, 24.09it/s]\u001b[A\n",
            " 53%|█████▎    | 1151/2154 [01:46<00:40, 24.64it/s]\u001b[A\n",
            " 54%|█████▎    | 1154/2154 [01:46<00:39, 25.23it/s]\u001b[A\n",
            " 54%|█████▎    | 1157/2154 [01:46<00:37, 26.28it/s]\u001b[A\n",
            " 54%|█████▍    | 1161/2154 [01:46<00:34, 28.75it/s]\u001b[A\n",
            " 54%|█████▍    | 1164/2154 [01:46<00:34, 28.78it/s]\u001b[A\n",
            " 54%|█████▍    | 1167/2154 [01:46<00:37, 26.44it/s]\u001b[A\n",
            " 54%|█████▍    | 1170/2154 [01:47<00:38, 25.29it/s]\u001b[A\n",
            " 54%|█████▍    | 1173/2154 [01:47<00:41, 23.87it/s]\u001b[A\n",
            " 55%|█████▍    | 1177/2154 [01:47<00:37, 26.38it/s]\u001b[A\n",
            " 55%|█████▍    | 1180/2154 [01:47<00:37, 26.15it/s]\u001b[A\n",
            " 55%|█████▍    | 1183/2154 [01:47<00:37, 26.06it/s]\u001b[A\n",
            " 55%|█████▌    | 1186/2154 [01:47<00:41, 23.51it/s]\u001b[A\n",
            " 55%|█████▌    | 1189/2154 [01:47<00:43, 22.06it/s]\u001b[A\n",
            " 55%|█████▌    | 1192/2154 [01:48<00:45, 21.30it/s]\u001b[A\n",
            " 55%|█████▌    | 1195/2154 [01:48<00:48, 19.58it/s]\u001b[A\n",
            " 56%|█████▌    | 1198/2154 [01:48<00:49, 19.43it/s]\u001b[A\n",
            " 56%|█████▌    | 1200/2154 [01:48<00:53, 17.68it/s]\u001b[A\n",
            " 56%|█████▌    | 1202/2154 [01:48<00:55, 17.30it/s]\u001b[A\n",
            " 56%|█████▌    | 1205/2154 [01:48<00:49, 19.22it/s]\u001b[A\n",
            " 56%|█████▌    | 1208/2154 [01:48<00:45, 20.79it/s]\u001b[A\n",
            " 56%|█████▌    | 1211/2154 [01:49<00:43, 21.45it/s]\u001b[A\n",
            " 56%|█████▋    | 1214/2154 [01:49<00:43, 21.40it/s]\u001b[A\n",
            " 56%|█████▋    | 1217/2154 [01:49<00:46, 20.17it/s]\u001b[A\n",
            " 57%|█████▋    | 1220/2154 [01:49<00:45, 20.65it/s]\u001b[A\n",
            " 57%|█████▋    | 1223/2154 [01:49<00:41, 22.19it/s]\u001b[A\n",
            " 57%|█████▋    | 1226/2154 [01:49<00:45, 20.22it/s]\u001b[A\n",
            " 57%|█████▋    | 1229/2154 [01:49<00:44, 21.02it/s]\u001b[A\n",
            " 57%|█████▋    | 1232/2154 [01:50<00:48, 19.21it/s]\u001b[A\n",
            " 57%|█████▋    | 1234/2154 [01:50<00:49, 18.63it/s]\u001b[A\n",
            " 57%|█████▋    | 1237/2154 [01:50<00:47, 19.47it/s]\u001b[A\n",
            " 58%|█████▊    | 1239/2154 [01:50<00:50, 18.06it/s]\u001b[A\n",
            " 58%|█████▊    | 1241/2154 [01:50<00:49, 18.40it/s]\u001b[A\n",
            " 58%|█████▊    | 1243/2154 [01:50<00:52, 17.38it/s]\u001b[A\n",
            " 58%|█████▊    | 1245/2154 [01:50<00:56, 16.21it/s]\u001b[A\n",
            " 58%|█████▊    | 1247/2154 [01:51<01:00, 14.93it/s]\u001b[A\n",
            " 58%|█████▊    | 1249/2154 [01:51<00:59, 15.09it/s]\u001b[A\n",
            " 58%|█████▊    | 1252/2154 [01:51<00:51, 17.64it/s]\u001b[A\n",
            " 58%|█████▊    | 1255/2154 [01:51<00:50, 17.70it/s]\u001b[A\n",
            " 58%|█████▊    | 1257/2154 [01:51<00:50, 17.91it/s]\u001b[A\n",
            " 58%|█████▊    | 1259/2154 [01:51<00:52, 16.90it/s]\u001b[A\n",
            " 59%|█████▊    | 1262/2154 [01:51<00:48, 18.50it/s]\u001b[A\n",
            " 59%|█████▊    | 1265/2154 [01:51<00:46, 19.11it/s]\u001b[A\n",
            " 59%|█████▉    | 1268/2154 [01:52<00:42, 20.75it/s]\u001b[A\n",
            " 59%|█████▉    | 1271/2154 [01:52<00:39, 22.49it/s]\u001b[A\n",
            " 59%|█████▉    | 1274/2154 [01:52<00:37, 23.66it/s]\u001b[A\n",
            " 59%|█████▉    | 1277/2154 [01:52<00:50, 17.48it/s]\u001b[A\n",
            " 59%|█████▉    | 1280/2154 [01:52<00:45, 19.34it/s]\u001b[A\n",
            " 60%|█████▉    | 1284/2154 [01:52<00:37, 22.90it/s]\u001b[A\n",
            " 60%|█████▉    | 1288/2154 [01:52<00:33, 25.59it/s]\u001b[A\n",
            " 60%|█████▉    | 1292/2154 [01:53<00:31, 27.06it/s]\u001b[A\n",
            " 60%|██████    | 1295/2154 [01:53<00:31, 27.22it/s]\u001b[A\n",
            " 60%|██████    | 1298/2154 [01:53<00:34, 25.17it/s]\u001b[A\n",
            " 60%|██████    | 1301/2154 [01:53<00:33, 25.29it/s]\u001b[A\n",
            " 61%|██████    | 1304/2154 [01:53<00:34, 24.54it/s]\u001b[A\n",
            " 61%|██████    | 1307/2154 [01:53<00:33, 25.10it/s]\u001b[A\n",
            " 61%|██████    | 1310/2154 [01:53<00:36, 22.84it/s]\u001b[A\n",
            " 61%|██████    | 1314/2154 [01:53<00:32, 26.00it/s]\u001b[A\n",
            " 61%|██████    | 1317/2154 [01:54<00:32, 25.75it/s]\u001b[A\n",
            " 61%|██████▏   | 1320/2154 [01:54<00:33, 24.95it/s]\u001b[A\n",
            " 61%|██████▏   | 1323/2154 [01:54<00:32, 25.19it/s]\u001b[A\n",
            " 62%|██████▏   | 1326/2154 [01:54<00:33, 24.49it/s]\u001b[A\n",
            " 62%|██████▏   | 1330/2154 [01:54<00:31, 25.89it/s]\u001b[A\n",
            " 62%|██████▏   | 1333/2154 [01:54<00:31, 25.74it/s]\u001b[A\n",
            " 62%|██████▏   | 1336/2154 [01:54<00:33, 24.22it/s]\u001b[A\n",
            " 62%|██████▏   | 1339/2154 [01:54<00:32, 24.83it/s]\u001b[A\n",
            " 62%|██████▏   | 1342/2154 [01:55<00:32, 24.81it/s]\u001b[A\n",
            " 62%|██████▏   | 1345/2154 [01:55<00:33, 24.25it/s]\u001b[A\n",
            " 63%|██████▎   | 1348/2154 [01:55<00:33, 24.17it/s]\u001b[A\n",
            " 63%|██████▎   | 1351/2154 [01:55<00:31, 25.30it/s]\u001b[A\n",
            " 63%|██████▎   | 1354/2154 [01:55<00:30, 25.88it/s]\u001b[A\n",
            " 63%|██████▎   | 1357/2154 [01:55<00:30, 26.20it/s]\u001b[A\n",
            " 63%|██████▎   | 1360/2154 [01:55<00:30, 26.13it/s]\u001b[A\n",
            " 63%|██████▎   | 1364/2154 [01:55<00:29, 26.54it/s]\u001b[A\n",
            " 64%|██████▎   | 1368/2154 [01:56<00:28, 27.64it/s]\u001b[A\n",
            " 64%|██████▎   | 1371/2154 [01:56<00:28, 27.63it/s]\u001b[A\n",
            " 64%|██████▍   | 1375/2154 [01:56<00:27, 28.16it/s]\u001b[A\n",
            " 64%|██████▍   | 1378/2154 [01:56<00:28, 27.05it/s]\u001b[A\n",
            " 64%|██████▍   | 1381/2154 [01:56<00:29, 26.08it/s]\u001b[A\n",
            " 64%|██████▍   | 1384/2154 [01:56<00:29, 25.69it/s]\u001b[A\n",
            " 64%|██████▍   | 1387/2154 [01:56<00:31, 24.70it/s]\u001b[A\n",
            " 65%|██████▍   | 1390/2154 [01:56<00:30, 25.25it/s]\u001b[A\n",
            " 65%|██████▍   | 1393/2154 [01:57<00:29, 25.40it/s]\u001b[A\n",
            " 65%|██████▍   | 1396/2154 [01:57<00:31, 24.27it/s]\u001b[A\n",
            " 65%|██████▍   | 1399/2154 [01:57<00:31, 24.15it/s]\u001b[A\n",
            " 65%|██████▌   | 1403/2154 [01:57<00:29, 25.38it/s]\u001b[A\n",
            " 65%|██████▌   | 1406/2154 [01:57<00:29, 25.35it/s]\u001b[A\n",
            " 65%|██████▌   | 1409/2154 [01:57<00:28, 26.03it/s]\u001b[A\n",
            " 66%|██████▌   | 1412/2154 [01:57<00:29, 25.24it/s]\u001b[A\n",
            " 66%|██████▌   | 1415/2154 [01:57<00:28, 25.55it/s]\u001b[A\n",
            " 66%|██████▌   | 1419/2154 [01:58<00:26, 27.58it/s]\u001b[A\n",
            " 66%|██████▌   | 1422/2154 [01:58<00:27, 26.69it/s]\u001b[A\n",
            " 66%|██████▌   | 1426/2154 [01:58<00:27, 26.57it/s]\u001b[A\n",
            " 66%|██████▋   | 1429/2154 [01:58<00:26, 26.86it/s]\u001b[A\n",
            " 66%|██████▋   | 1432/2154 [01:58<00:26, 26.98it/s]\u001b[A\n",
            " 67%|██████▋   | 1436/2154 [01:58<00:25, 28.55it/s]\u001b[A\n",
            " 67%|██████▋   | 1440/2154 [01:58<00:24, 29.47it/s]\u001b[A\n",
            " 67%|██████▋   | 1444/2154 [01:58<00:24, 29.05it/s]\u001b[A\n",
            " 67%|██████▋   | 1447/2154 [01:59<00:24, 29.06it/s]\u001b[A\n",
            " 67%|██████▋   | 1450/2154 [01:59<00:24, 28.99it/s]\u001b[A\n",
            " 67%|██████▋   | 1453/2154 [01:59<00:26, 26.35it/s]\u001b[A\n",
            " 68%|██████▊   | 1456/2154 [01:59<00:26, 26.13it/s]\u001b[A\n",
            " 68%|██████▊   | 1459/2154 [01:59<00:26, 26.52it/s]\u001b[A\n",
            " 68%|██████▊   | 1462/2154 [01:59<00:28, 24.70it/s]\u001b[A\n",
            " 68%|██████▊   | 1465/2154 [01:59<00:27, 25.05it/s]\u001b[A\n",
            " 68%|██████▊   | 1468/2154 [01:59<00:27, 25.25it/s]\u001b[A\n",
            " 68%|██████▊   | 1471/2154 [02:00<00:27, 24.76it/s]\u001b[A\n",
            " 68%|██████▊   | 1475/2154 [02:00<00:25, 26.56it/s]\u001b[A\n",
            " 69%|██████▊   | 1478/2154 [02:00<00:24, 27.40it/s]\u001b[A\n",
            " 69%|██████▉   | 1481/2154 [02:00<00:25, 25.93it/s]\u001b[A\n",
            " 69%|██████▉   | 1485/2154 [02:00<00:24, 26.88it/s]\u001b[A\n",
            " 69%|██████▉   | 1488/2154 [02:00<00:26, 25.38it/s]\u001b[A\n",
            " 69%|██████▉   | 1492/2154 [02:00<00:24, 27.17it/s]\u001b[A\n",
            " 69%|██████▉   | 1495/2154 [02:00<00:24, 26.46it/s]\u001b[A\n",
            " 70%|██████▉   | 1498/2154 [02:01<00:25, 25.45it/s]\u001b[A\n",
            " 70%|██████▉   | 1502/2154 [02:01<00:23, 27.24it/s]\u001b[A\n",
            " 70%|██████▉   | 1505/2154 [02:01<00:23, 27.50it/s]\u001b[A\n",
            " 70%|███████   | 1509/2154 [02:01<00:22, 28.36it/s]\u001b[A\n",
            " 70%|███████   | 1512/2154 [02:01<00:22, 28.11it/s]\u001b[A\n",
            " 70%|███████   | 1515/2154 [02:01<00:22, 28.24it/s]\u001b[A\n",
            " 70%|███████   | 1518/2154 [02:01<00:23, 26.86it/s]\u001b[A\n",
            " 71%|███████   | 1521/2154 [02:01<00:24, 25.79it/s]\u001b[A\n",
            " 71%|███████   | 1524/2154 [02:02<00:24, 25.30it/s]\u001b[A\n",
            " 71%|███████   | 1527/2154 [02:02<00:26, 23.84it/s]\u001b[A\n",
            " 71%|███████   | 1530/2154 [02:02<00:29, 21.27it/s]\u001b[A\n",
            " 71%|███████   | 1533/2154 [02:02<00:41, 15.07it/s]\u001b[A\n",
            " 71%|███████▏  | 1535/2154 [02:02<00:40, 15.26it/s]\u001b[A\n",
            " 71%|███████▏  | 1538/2154 [02:02<00:36, 17.06it/s]\u001b[A\n",
            " 71%|███████▏  | 1540/2154 [02:03<00:35, 17.19it/s]\u001b[A\n",
            " 72%|███████▏  | 1542/2154 [02:03<00:36, 16.93it/s]\u001b[A\n",
            " 72%|███████▏  | 1545/2154 [02:03<00:31, 19.18it/s]\u001b[A\n",
            " 72%|███████▏  | 1548/2154 [02:03<00:33, 18.24it/s]\u001b[A\n",
            " 72%|███████▏  | 1551/2154 [02:03<00:32, 18.58it/s]\u001b[A\n",
            " 72%|███████▏  | 1553/2154 [02:03<00:32, 18.57it/s]\u001b[A\n",
            " 72%|███████▏  | 1556/2154 [02:03<00:32, 18.21it/s]\u001b[A\n",
            " 72%|███████▏  | 1558/2154 [02:04<00:34, 17.30it/s]\u001b[A\n",
            " 72%|███████▏  | 1560/2154 [02:04<00:37, 15.84it/s]\u001b[A\n",
            " 73%|███████▎  | 1562/2154 [02:04<00:36, 16.29it/s]\u001b[A\n",
            " 73%|███████▎  | 1564/2154 [02:04<00:37, 15.89it/s]\u001b[A\n",
            " 73%|███████▎  | 1566/2154 [02:04<00:38, 15.17it/s]\u001b[A\n",
            " 73%|███████▎  | 1568/2154 [02:04<00:36, 16.22it/s]\u001b[A\n",
            " 73%|███████▎  | 1570/2154 [02:04<00:34, 16.85it/s]\u001b[A\n",
            " 73%|███████▎  | 1572/2154 [02:04<00:34, 16.75it/s]\u001b[A\n",
            " 73%|███████▎  | 1574/2154 [02:05<00:34, 16.92it/s]\u001b[A\n",
            " 73%|███████▎  | 1576/2154 [02:05<00:34, 16.74it/s]\u001b[A\n",
            " 73%|███████▎  | 1578/2154 [02:05<00:34, 16.76it/s]\u001b[A\n",
            " 73%|███████▎  | 1581/2154 [02:05<00:30, 18.80it/s]\u001b[A\n",
            " 74%|███████▎  | 1584/2154 [02:05<00:29, 19.46it/s]\u001b[A\n",
            " 74%|███████▎  | 1586/2154 [02:05<00:32, 17.38it/s]\u001b[A\n",
            " 74%|███████▎  | 1588/2154 [02:05<00:34, 16.55it/s]\u001b[A\n",
            " 74%|███████▍  | 1590/2154 [02:05<00:32, 17.11it/s]\u001b[A\n",
            " 74%|███████▍  | 1592/2154 [02:06<00:32, 17.44it/s]\u001b[A\n",
            " 74%|███████▍  | 1595/2154 [02:06<00:27, 20.13it/s]\u001b[A\n",
            " 74%|███████▍  | 1598/2154 [02:06<00:27, 19.93it/s]\u001b[A\n",
            " 74%|███████▍  | 1601/2154 [02:06<00:26, 20.68it/s]\u001b[A\n",
            " 74%|███████▍  | 1604/2154 [02:06<00:24, 22.42it/s]\u001b[A\n",
            " 75%|███████▍  | 1607/2154 [02:06<00:23, 23.57it/s]\u001b[A\n",
            " 75%|███████▍  | 1610/2154 [02:06<00:23, 23.30it/s]\u001b[A\n",
            " 75%|███████▍  | 1613/2154 [02:06<00:23, 23.25it/s]\u001b[A\n",
            " 75%|███████▌  | 1616/2154 [02:07<00:24, 21.87it/s]\u001b[A\n",
            " 75%|███████▌  | 1619/2154 [02:07<00:23, 23.24it/s]\u001b[A\n",
            " 75%|███████▌  | 1622/2154 [02:07<00:22, 23.46it/s]\u001b[A\n",
            " 75%|███████▌  | 1625/2154 [02:07<00:21, 24.28it/s]\u001b[A\n",
            " 76%|███████▌  | 1628/2154 [02:07<00:21, 24.12it/s]\u001b[A\n",
            " 76%|███████▌  | 1631/2154 [02:07<00:21, 23.90it/s]\u001b[A\n",
            " 76%|███████▌  | 1634/2154 [02:07<00:20, 24.83it/s]\u001b[A\n",
            " 76%|███████▌  | 1637/2154 [02:07<00:19, 25.99it/s]\u001b[A\n",
            " 76%|███████▌  | 1640/2154 [02:07<00:19, 27.01it/s]\u001b[A\n",
            " 76%|███████▋  | 1643/2154 [02:08<00:20, 25.47it/s]\u001b[A\n",
            " 76%|███████▋  | 1647/2154 [02:08<00:18, 28.16it/s]\u001b[A\n",
            " 77%|███████▋  | 1650/2154 [02:08<00:18, 26.71it/s]\u001b[A\n",
            " 77%|███████▋  | 1653/2154 [02:08<00:18, 27.56it/s]\u001b[A\n",
            " 77%|███████▋  | 1656/2154 [02:08<00:18, 27.56it/s]\u001b[A\n",
            " 77%|███████▋  | 1659/2154 [02:08<00:17, 27.88it/s]\u001b[A\n",
            " 77%|███████▋  | 1662/2154 [02:08<00:17, 27.56it/s]\u001b[A\n",
            " 77%|███████▋  | 1665/2154 [02:08<00:17, 27.45it/s]\u001b[A\n",
            " 77%|███████▋  | 1668/2154 [02:09<00:18, 26.26it/s]\u001b[A\n",
            " 78%|███████▊  | 1672/2154 [02:09<00:17, 26.97it/s]\u001b[A\n",
            " 78%|███████▊  | 1675/2154 [02:09<00:18, 25.25it/s]\u001b[A\n",
            " 78%|███████▊  | 1679/2154 [02:09<00:17, 26.43it/s]\u001b[A\n",
            " 78%|███████▊  | 1682/2154 [02:09<00:17, 26.43it/s]\u001b[A\n",
            " 78%|███████▊  | 1685/2154 [02:09<00:17, 27.25it/s]\u001b[A\n",
            " 78%|███████▊  | 1688/2154 [02:09<00:18, 25.45it/s]\u001b[A\n",
            " 79%|███████▊  | 1691/2154 [02:09<00:17, 25.90it/s]\u001b[A\n",
            " 79%|███████▊  | 1694/2154 [02:10<00:18, 24.70it/s]\u001b[A\n",
            " 79%|███████▉  | 1697/2154 [02:10<00:18, 24.94it/s]\u001b[A\n",
            " 79%|███████▉  | 1700/2154 [02:10<00:17, 25.78it/s]\u001b[A\n",
            " 79%|███████▉  | 1703/2154 [02:10<00:19, 23.16it/s]\u001b[A\n",
            " 79%|███████▉  | 1706/2154 [02:10<00:19, 22.88it/s]\u001b[A\n",
            " 79%|███████▉  | 1709/2154 [02:10<00:19, 23.08it/s]\u001b[A\n",
            " 79%|███████▉  | 1712/2154 [02:10<00:18, 24.16it/s]\u001b[A\n",
            " 80%|███████▉  | 1715/2154 [02:10<00:17, 24.74it/s]\u001b[A\n",
            " 80%|███████▉  | 1718/2154 [02:11<00:17, 25.25it/s]\u001b[A\n",
            " 80%|███████▉  | 1721/2154 [02:11<00:17, 25.04it/s]\u001b[A\n",
            " 80%|████████  | 1724/2154 [02:11<00:16, 25.71it/s]\u001b[A\n",
            " 80%|████████  | 1727/2154 [02:11<00:17, 24.29it/s]\u001b[A\n",
            " 80%|████████  | 1730/2154 [02:11<00:17, 24.23it/s]\u001b[A\n",
            " 80%|████████  | 1733/2154 [02:11<00:16, 25.04it/s]\u001b[A\n",
            " 81%|████████  | 1736/2154 [02:11<00:16, 24.76it/s]\u001b[A\n",
            " 81%|████████  | 1740/2154 [02:11<00:15, 26.03it/s]\u001b[A\n",
            " 81%|████████  | 1743/2154 [02:12<00:15, 26.64it/s]\u001b[A\n",
            " 81%|████████  | 1746/2154 [02:12<00:17, 23.94it/s]\u001b[A\n",
            " 81%|████████  | 1749/2154 [02:12<00:16, 23.86it/s]\u001b[A\n",
            " 81%|████████▏ | 1752/2154 [02:12<00:16, 24.04it/s]\u001b[A\n",
            " 81%|████████▏ | 1755/2154 [02:12<00:16, 24.32it/s]\u001b[A\n",
            " 82%|████████▏ | 1758/2154 [02:12<00:17, 23.26it/s]\u001b[A\n",
            " 82%|████████▏ | 1761/2154 [02:12<00:16, 23.40it/s]\u001b[A\n",
            " 82%|████████▏ | 1764/2154 [02:12<00:15, 25.01it/s]\u001b[A\n",
            " 82%|████████▏ | 1767/2154 [02:13<00:14, 26.05it/s]\u001b[A\n",
            " 82%|████████▏ | 1770/2154 [02:13<00:15, 24.32it/s]\u001b[A\n",
            " 82%|████████▏ | 1773/2154 [02:13<00:16, 23.68it/s]\u001b[A\n",
            " 82%|████████▏ | 1777/2154 [02:13<00:14, 25.27it/s]\u001b[A\n",
            " 83%|████████▎ | 1780/2154 [02:13<00:15, 24.71it/s]\u001b[A\n",
            " 83%|████████▎ | 1783/2154 [02:13<00:14, 24.78it/s]\u001b[A\n",
            " 83%|████████▎ | 1786/2154 [02:13<00:15, 24.40it/s]\u001b[A\n",
            " 83%|████████▎ | 1789/2154 [02:13<00:14, 25.73it/s]\u001b[A\n",
            " 83%|████████▎ | 1792/2154 [02:14<00:14, 24.93it/s]\u001b[A\n",
            " 83%|████████▎ | 1795/2154 [02:14<00:14, 24.83it/s]\u001b[A\n",
            " 83%|████████▎ | 1798/2154 [02:14<00:14, 23.84it/s]\u001b[A\n",
            " 84%|████████▎ | 1801/2154 [02:14<00:14, 23.71it/s]\u001b[A\n",
            " 84%|████████▍ | 1805/2154 [02:14<00:13, 26.38it/s]\u001b[A\n",
            " 84%|████████▍ | 1809/2154 [02:14<00:12, 27.13it/s]\u001b[A\n",
            " 84%|████████▍ | 1812/2154 [02:14<00:12, 26.90it/s]\u001b[A\n",
            " 84%|████████▍ | 1815/2154 [02:14<00:13, 25.59it/s]\u001b[A\n",
            " 84%|████████▍ | 1818/2154 [02:15<00:13, 25.01it/s]\u001b[A\n",
            " 85%|████████▍ | 1821/2154 [02:15<00:12, 25.70it/s]\u001b[A\n",
            " 85%|████████▍ | 1824/2154 [02:15<00:13, 24.49it/s]\u001b[A\n",
            " 85%|████████▍ | 1828/2154 [02:15<00:12, 26.46it/s]\u001b[A\n",
            " 85%|████████▌ | 1831/2154 [02:15<00:12, 26.70it/s]\u001b[A\n",
            " 85%|████████▌ | 1834/2154 [02:15<00:12, 24.66it/s]\u001b[A\n",
            " 85%|████████▌ | 1838/2154 [02:15<00:12, 25.35it/s]\u001b[A\n",
            " 85%|████████▌ | 1841/2154 [02:15<00:12, 25.85it/s]\u001b[A\n",
            " 86%|████████▌ | 1844/2154 [02:16<00:12, 25.60it/s]\u001b[A\n",
            " 86%|████████▌ | 1847/2154 [02:16<00:12, 23.79it/s]\u001b[A\n",
            " 86%|████████▌ | 1850/2154 [02:16<00:13, 23.01it/s]\u001b[A\n",
            " 86%|████████▌ | 1853/2154 [02:16<00:14, 20.72it/s]\u001b[A\n",
            " 86%|████████▌ | 1856/2154 [02:16<00:15, 19.56it/s]\u001b[A\n",
            " 86%|████████▋ | 1859/2154 [02:16<00:16, 18.32it/s]\u001b[A\n",
            " 86%|████████▋ | 1861/2154 [02:17<00:16, 17.85it/s]\u001b[A\n",
            " 86%|████████▋ | 1863/2154 [02:17<00:15, 18.28it/s]\u001b[A\n",
            " 87%|████████▋ | 1865/2154 [02:17<00:15, 18.26it/s]\u001b[A\n",
            " 87%|████████▋ | 1867/2154 [02:17<00:16, 17.64it/s]\u001b[A\n",
            " 87%|████████▋ | 1869/2154 [02:17<00:15, 18.16it/s]\u001b[A\n",
            " 87%|████████▋ | 1871/2154 [02:17<00:16, 17.17it/s]\u001b[A\n",
            " 87%|████████▋ | 1874/2154 [02:17<00:15, 18.26it/s]\u001b[A\n",
            " 87%|████████▋ | 1876/2154 [02:17<00:15, 17.58it/s]\u001b[A\n",
            " 87%|████████▋ | 1878/2154 [02:17<00:16, 17.17it/s]\u001b[A\n",
            " 87%|████████▋ | 1881/2154 [02:18<00:15, 17.92it/s]\u001b[A\n",
            " 87%|████████▋ | 1883/2154 [02:18<00:14, 18.36it/s]\u001b[A\n",
            " 88%|████████▊ | 1886/2154 [02:18<00:14, 18.63it/s]\u001b[A\n",
            " 88%|████████▊ | 1888/2154 [02:18<00:14, 18.29it/s]\u001b[A\n",
            " 88%|████████▊ | 1890/2154 [02:18<00:14, 18.27it/s]\u001b[A\n",
            " 88%|████████▊ | 1892/2154 [02:18<00:15, 16.73it/s]\u001b[A\n",
            " 88%|████████▊ | 1894/2154 [02:18<00:15, 17.18it/s]\u001b[A\n",
            " 88%|████████▊ | 1896/2154 [02:18<00:14, 17.43it/s]\u001b[A\n",
            " 88%|████████▊ | 1898/2154 [02:19<00:16, 15.11it/s]\u001b[A\n",
            " 88%|████████▊ | 1900/2154 [02:19<00:16, 15.38it/s]\u001b[A\n",
            " 88%|████████▊ | 1903/2154 [02:19<00:15, 16.49it/s]\u001b[A\n",
            " 88%|████████▊ | 1905/2154 [02:19<00:15, 16.24it/s]\u001b[A\n",
            " 89%|████████▊ | 1907/2154 [02:19<00:14, 16.92it/s]\u001b[A\n",
            " 89%|████████▊ | 1910/2154 [02:19<00:12, 19.70it/s]\u001b[A\n",
            " 89%|████████▉ | 1913/2154 [02:19<00:12, 18.90it/s]\u001b[A\n",
            " 89%|████████▉ | 1915/2154 [02:20<00:12, 18.47it/s]\u001b[A\n",
            " 89%|████████▉ | 1917/2154 [02:20<00:13, 17.87it/s]\u001b[A\n",
            " 89%|████████▉ | 1919/2154 [02:20<00:13, 17.65it/s]\u001b[A\n",
            " 89%|████████▉ | 1921/2154 [02:20<00:13, 17.89it/s]\u001b[A\n",
            " 89%|████████▉ | 1924/2154 [02:20<00:12, 19.10it/s]\u001b[A\n",
            " 89%|████████▉ | 1927/2154 [02:20<00:10, 21.50it/s]\u001b[A\n",
            " 90%|████████▉ | 1931/2154 [02:20<00:09, 24.57it/s]\u001b[A\n",
            " 90%|████████▉ | 1934/2154 [02:20<00:08, 25.46it/s]\u001b[A\n",
            " 90%|████████▉ | 1937/2154 [02:21<00:08, 25.29it/s]\u001b[A\n",
            " 90%|█████████ | 1940/2154 [02:21<00:08, 26.25it/s]\u001b[A\n",
            " 90%|█████████ | 1943/2154 [02:21<00:08, 24.63it/s]\u001b[A\n",
            " 90%|█████████ | 1946/2154 [02:21<00:08, 25.61it/s]\u001b[A\n",
            " 91%|█████████ | 1950/2154 [02:21<00:07, 27.41it/s]\u001b[A\n",
            " 91%|█████████ | 1953/2154 [02:21<00:07, 26.90it/s]\u001b[A\n",
            " 91%|█████████ | 1956/2154 [02:21<00:07, 27.12it/s]\u001b[A\n",
            " 91%|█████████ | 1960/2154 [02:21<00:07, 26.85it/s]\u001b[A\n",
            " 91%|█████████ | 1963/2154 [02:22<00:07, 24.18it/s]\u001b[A\n",
            " 91%|█████████▏| 1966/2154 [02:22<00:07, 25.10it/s]\u001b[A\n",
            " 91%|█████████▏| 1969/2154 [02:22<00:07, 24.52it/s]\u001b[A\n",
            " 92%|█████████▏| 1972/2154 [02:22<00:12, 15.12it/s]\u001b[A\n",
            " 92%|█████████▏| 1975/2154 [02:22<00:10, 17.30it/s]\u001b[A\n",
            " 92%|█████████▏| 1978/2154 [02:22<00:09, 18.96it/s]\u001b[A\n",
            " 92%|█████████▏| 1982/2154 [02:23<00:07, 22.46it/s]\u001b[A\n",
            " 92%|█████████▏| 1985/2154 [02:23<00:07, 23.81it/s]\u001b[A\n",
            " 92%|█████████▏| 1989/2154 [02:23<00:06, 26.16it/s]\u001b[A\n",
            " 92%|█████████▏| 1992/2154 [02:23<00:06, 25.14it/s]\u001b[A\n",
            " 93%|█████████▎| 1995/2154 [02:23<00:06, 25.38it/s]\u001b[A\n",
            " 93%|█████████▎| 1998/2154 [02:23<00:06, 24.03it/s]\u001b[A\n",
            " 93%|█████████▎| 2002/2154 [02:23<00:05, 26.88it/s]\u001b[A\n",
            " 93%|█████████▎| 2005/2154 [02:23<00:05, 26.70it/s]\u001b[A\n",
            " 93%|█████████▎| 2009/2154 [02:23<00:05, 27.61it/s]\u001b[A\n",
            " 93%|█████████▎| 2013/2154 [02:24<00:04, 29.68it/s]\u001b[A\n",
            " 94%|█████████▎| 2017/2154 [02:24<00:04, 27.73it/s]\u001b[A\n",
            " 94%|█████████▍| 2020/2154 [02:24<00:05, 25.92it/s]\u001b[A\n",
            " 94%|█████████▍| 2023/2154 [02:24<00:05, 25.25it/s]\u001b[A\n",
            " 94%|█████████▍| 2026/2154 [02:24<00:05, 23.76it/s]\u001b[A\n",
            " 94%|█████████▍| 2029/2154 [02:24<00:05, 24.97it/s]\u001b[A\n",
            " 94%|█████████▍| 2032/2154 [02:24<00:04, 25.03it/s]\u001b[A\n",
            " 95%|█████████▍| 2036/2154 [02:25<00:04, 27.25it/s]\u001b[A\n",
            " 95%|█████████▍| 2039/2154 [02:25<00:04, 27.83it/s]\u001b[A\n",
            " 95%|█████████▍| 2042/2154 [02:25<00:04, 27.57it/s]\u001b[A\n",
            " 95%|█████████▍| 2046/2154 [02:25<00:03, 28.22it/s]\u001b[A\n",
            " 95%|█████████▌| 2049/2154 [02:25<00:03, 27.15it/s]\u001b[A\n",
            " 95%|█████████▌| 2052/2154 [02:25<00:03, 25.86it/s]\u001b[A\n",
            " 95%|█████████▌| 2055/2154 [02:25<00:03, 26.54it/s]\u001b[A\n",
            " 96%|█████████▌| 2058/2154 [02:25<00:03, 25.83it/s]\u001b[A\n",
            " 96%|█████████▌| 2062/2154 [02:25<00:03, 27.21it/s]\u001b[A\n",
            " 96%|█████████▌| 2066/2154 [02:26<00:02, 29.35it/s]\u001b[A\n",
            " 96%|█████████▌| 2069/2154 [02:26<00:03, 28.10it/s]\u001b[A\n",
            " 96%|█████████▌| 2072/2154 [02:26<00:02, 28.04it/s]\u001b[A\n",
            " 96%|█████████▋| 2075/2154 [02:26<00:02, 27.99it/s]\u001b[A\n",
            " 96%|█████████▋| 2078/2154 [02:26<00:02, 26.87it/s]\u001b[A\n",
            " 97%|█████████▋| 2082/2154 [02:26<00:02, 28.30it/s]\u001b[A\n",
            " 97%|█████████▋| 2086/2154 [02:26<00:02, 29.72it/s]\u001b[A\n",
            " 97%|█████████▋| 2089/2154 [02:26<00:02, 28.10it/s]\u001b[A\n",
            " 97%|█████████▋| 2092/2154 [02:27<00:02, 24.57it/s]\u001b[A\n",
            " 97%|█████████▋| 2095/2154 [02:27<00:02, 25.50it/s]\u001b[A\n",
            " 97%|█████████▋| 2098/2154 [02:27<00:02, 25.91it/s]\u001b[A\n",
            " 98%|█████████▊| 2101/2154 [02:27<00:02, 26.23it/s]\u001b[A\n",
            " 98%|█████████▊| 2104/2154 [02:27<00:01, 26.47it/s]\u001b[A\n",
            " 98%|█████████▊| 2107/2154 [02:27<00:01, 24.72it/s]\u001b[A\n",
            " 98%|█████████▊| 2110/2154 [02:27<00:01, 24.07it/s]\u001b[A\n",
            " 98%|█████████▊| 2113/2154 [02:27<00:01, 24.41it/s]\u001b[A\n",
            " 98%|█████████▊| 2116/2154 [02:28<00:01, 25.58it/s]\u001b[A\n",
            " 98%|█████████▊| 2119/2154 [02:28<00:01, 25.91it/s]\u001b[A\n",
            " 99%|█████████▊| 2122/2154 [02:28<00:01, 25.89it/s]\u001b[A\n",
            " 99%|█████████▊| 2125/2154 [02:28<00:02, 13.43it/s]\u001b[A\n",
            " 99%|█████████▉| 2128/2154 [02:28<00:01, 13.11it/s]\u001b[A\n",
            " 99%|█████████▉| 2130/2154 [02:29<00:01, 13.81it/s]\u001b[A\n",
            " 99%|█████████▉| 2134/2154 [02:29<00:01, 17.77it/s]\u001b[A\n",
            " 99%|█████████▉| 2137/2154 [02:29<00:00, 20.13it/s]\u001b[A\n",
            " 99%|█████████▉| 2140/2154 [02:29<00:00, 22.00it/s]\u001b[A\n",
            "100%|█████████▉| 2144/2154 [02:29<00:00, 21.89it/s]\u001b[A\n",
            "100%|█████████▉| 2147/2154 [02:30<00:00, 14.43it/s]\u001b[A\n",
            "100%|█████████▉| 2149/2154 [02:30<00:00, 13.37it/s]\u001b[A\n",
            "100%|██████████| 2154/2154 [02:30<00:00, 14.32it/s]\n"
          ]
        }
      ]
    },
    {
      "cell_type": "code",
      "source": [
        "import torch.nn.functional as F\n",
        "\n",
        "class Custom_dataset(Dataset):\n",
        "    def __init__(self, img_paths, labels, transforms):\n",
        "        self.img_paths = img_paths\n",
        "        self.labels = labels\n",
        "        self.transforms = transforms\n",
        "    def __len__(self):\n",
        "        return len(self.img_paths)\n",
        "    def __getitem__(self, idx):\n",
        "        img = self.img_paths[idx]\n",
        "        img = self.transforms(img)   #   train이든 test든 totensor 로 0~1로 nomaliztion\n",
        "        label = self.labels[idx]\n",
        "        \n",
        "        return img, label"
      ],
      "metadata": {
        "id": "Kva5utb6x2Aj"
      },
      "execution_count": 15,
      "outputs": []
    },
    {
      "cell_type": "code",
      "source": [
        "test_transform = transforms.Compose([\n",
        "    transforms.ToTensor(),  # [0, 255]의 범위를 갖는 값들을 [0.0, 1.0]으로 정규화, torch.FloatTensor로 변환\n",
        "    transforms.Normalize([0.41017398,0.38485712,0.37689483], [0.20070569,0.19670747,0.18732636])   #  정규화(normalization)\n",
        "])\n",
        "\n",
        "# Test\n",
        "test_dataset = Custom_dataset(np.array(test_imgs), np.array([\"tmp\"]*len(test_imgs)), transforms=test_transform)\n",
        "test_loader = DataLoader(test_dataset, shuffle=False, batch_size=batch_size)"
      ],
      "metadata": {
        "id": "UVm9x78pj_T1"
      },
      "execution_count": 16,
      "outputs": []
    },
    {
      "cell_type": "markdown",
      "source": [
        "# 모델링"
      ],
      "metadata": {
        "id": "s4vPn5vayDWd"
      }
    },
    {
      "cell_type": "code",
      "source": [
        "n_devices = torch.cuda.device_count()\n",
        "# 사용 가능한 CUDA 인덱스 출력\n",
        "for i in range(n_devices):\n",
        "  print(f\"Device {i}: {torch.cuda.get_device_name(i)}\")"
      ],
      "metadata": {
        "id": "MFwkcHgMkFdF",
        "colab": {
          "base_uri": "https://localhost:8080/"
        },
        "outputId": "84b2f3d7-b28a-4032-b864-aa3a6052429d"
      },
      "execution_count": 17,
      "outputs": [
        {
          "output_type": "stream",
          "name": "stdout",
          "text": [
            "Device 0: Tesla T4\n"
          ]
        }
      ]
    },
    {
      "cell_type": "markdown",
      "source": [
        "## 모델 정의"
      ],
      "metadata": {
        "id": "MXUcz8d0Aq88"
      }
    },
    {
      "cell_type": "code",
      "source": [
        "import torch\n",
        "device = torch.device('cuda:0')"
      ],
      "metadata": {
        "id": "RZdmv0RgkBtU"
      },
      "execution_count": 18,
      "outputs": []
    },
    {
      "cell_type": "markdown",
      "source": [
        "## efficientnet_b1 모델"
      ],
      "metadata": {
        "id": "BWEwQoEsKBGJ"
      }
    },
    {
      "cell_type": "code",
      "source": [
        "\n",
        "class Network(nn.Module):\n",
        "    def __init__(self):\n",
        "        super(Network, self).__init__()\n",
        "        self.model = timm.create_model('efficientnet_b1', pretrained=True, num_classes=88) # 원하는 모델 선택\n",
        "           \n",
        "    def forward(self, x):\n",
        "        x = self.model(x)\n",
        "        # x = F.softmax(x,dim=1)\n",
        "        return x\n",
        "\n",
        "model = Network().to(device)\n"
      ],
      "metadata": {
        "id": "DSGb-_MtkDjD",
        "colab": {
          "base_uri": "https://localhost:8080/"
        },
        "outputId": "98fb1482-8bca-48d1-f80e-bf198fec8c39"
      },
      "execution_count": 19,
      "outputs": [
        {
          "output_type": "stream",
          "name": "stderr",
          "text": [
            "Downloading: \"https://github.com/rwightman/pytorch-image-models/releases/download/v0.1-weights/efficientnet_b1-533bc792.pth\" to /root/.cache/torch/hub/checkpoints/efficientnet_b1-533bc792.pth\n"
          ]
        }
      ]
    },
    {
      "cell_type": "markdown",
      "source": [
        "## 앙상블 모델\n",
        "> efficientnet_b7, resnet50, vit_base_patch16_384"
      ],
      "metadata": {
        "id": "oJJeZqTuKFL_"
      }
    },
    {
      "cell_type": "code",
      "source": [
        "\"\"\"\n",
        "import torch\n",
        "import torch.nn as nn\n",
        "import timm\n",
        "\n",
        "class Ensemble(nn.Module):\n",
        "    def __init__(self):\n",
        "        super(Ensemble, self).__init__()\n",
        "        self.model1 = timm.create_model('efficientnet_b7', pretrained=True, num_classes=88)\n",
        "        self.model2 = timm.create_model('resnet50', pretrained=True, num_classes=88)\n",
        "        self.model3 = timm.create_model('vit_base_patch16_384', pretrained=True, num_classes=88)\n",
        "        \n",
        "    def forward(self, x):\n",
        "        out1 = self.model1(x)\n",
        "        out2 = self.model2(x)\n",
        "        out3 = self.model3(x)\n",
        "        \n",
        "        out = (out1 + out2 + out3) / 3\n",
        "        out = torch.softmax(out, dim=1)\n",
        "        return out\n",
        "\n",
        "model = Ensemble().to(device)\n",
        "\"\"\""
      ],
      "metadata": {
        "id": "Klc-97SbHBOg",
        "colab": {
          "base_uri": "https://localhost:8080/"
        },
        "outputId": "a3f50fa3-c0ea-4023-eaa9-56e7ffbbbca7"
      },
      "execution_count": null,
      "outputs": [
        {
          "output_type": "stream",
          "name": "stderr",
          "text": [
            "WARNING:timm.models.helpers:No pretrained weights exist or were found for this model. Using random initialization.\n",
            "Downloading: \"https://github.com/rwightman/pytorch-image-models/releases/download/v0.1-rsb-weights/resnet50_a1_0-14fe96d1.pth\" to /root/.cache/torch/hub/checkpoints/resnet50_a1_0-14fe96d1.pth\n"
          ]
        }
      ]
    },
    {
      "cell_type": "markdown",
      "source": [
        "## 모델 학습"
      ],
      "metadata": {
        "id": "ZbROLe-oAzLz"
      }
    },
    {
      "cell_type": "markdown",
      "source": [
        "### 전이 학습"
      ],
      "metadata": {
        "id": "EndCkpnk1QUH"
      }
    },
    {
      "cell_type": "code",
      "source": [
        "model.load_state_dict(torch.load('/content/data/MyDrive/deeplearning/0.9921008917114432.pt'))"
      ],
      "metadata": {
        "colab": {
          "base_uri": "https://localhost:8080/"
        },
        "id": "mtjmubNH6Pbv",
        "outputId": "7238e1e5-1053-412c-a6f7-1a7fd60c843a"
      },
      "execution_count": 20,
      "outputs": [
        {
          "output_type": "execute_result",
          "data": {
            "text/plain": [
              "<All keys matched successfully>"
            ]
          },
          "metadata": {},
          "execution_count": 20
        }
      ]
    },
    {
      "cell_type": "markdown",
      "source": [
        "### 학습 및 평가"
      ],
      "metadata": {
        "id": "FWJEGKy-I2jr"
      }
    },
    {
      "cell_type": "code",
      "source": [
        "epochs = 30"
      ],
      "metadata": {
        "id": "jEdBUexGFgtG"
      },
      "execution_count": 21,
      "outputs": []
    },
    {
      "cell_type": "markdown",
      "source": [
        "#### 평가 산식 : Macro F1 Score"
      ],
      "metadata": {
        "id": "xYRztln_LD35"
      }
    },
    {
      "cell_type": "code",
      "source": [
        "def score_function(real, pred):\n",
        "    score = f1_score(real, pred, average=\"macro\")\n",
        "    return score\n",
        "\n",
        "\n",
        "# weight_decay\n",
        "optimizer = torch.optim.AdamW(model.parameters(), lr=0.001, weight_decay=0.001 )\n",
        "# 학습률 스케쥴러 추가\n",
        "scheduler = torch.optim.lr_scheduler.StepLR(optimizer,step_size = 10, gamma = 0.01)\n",
        "\n",
        "criterion = nn.CrossEntropyLoss()\n",
        "scaler = torch.cuda.amp.GradScaler()    # amp 학습 빠르게\n",
        "\n",
        "best=0\n",
        "for epoch in range(epochs):\n",
        "    start=time.time()\n",
        "    train_loss = 0\n",
        "    train_pred=[]\n",
        "    train_y=[]\n",
        "    model.train()\n",
        "    for batch in (train_loader):\n",
        "        optimizer.zero_grad()\n",
        "        x = torch.tensor(batch[0], dtype=torch.float32, device=device)\n",
        "        y = torch.tensor(batch[1], dtype=torch.long, device=device)\n",
        "        with torch.cuda.amp.autocast():\n",
        "            \n",
        "            pred = model(x)     \n",
        "                \n",
        "        loss = criterion(pred, y)    \n",
        "       \n",
        "        scaler.scale(loss).backward()\n",
        "        scaler.step(optimizer)\n",
        "        scaler.update()\n",
        "        \n",
        "        train_loss += loss.item()/len(train_loader)\n",
        "        train_pred += pred.argmax(1).detach().cpu().numpy().tolist()\n",
        "        train_y += y.detach().cpu().numpy().tolist()\n",
        "    scheduler.step()\n",
        "           \n",
        "    train_f1 = score_function(train_y, train_pred)\n",
        "\n",
        "    TIME = time.time() - start\n",
        "    print(f'epoch : {epoch+1}/{epochs}    time : {TIME:.0f}s/{TIME*(epochs-epoch-1):.0f}s')\n",
        "    print(f'TRAIN    loss : {train_loss:.5f}    f1 : {train_f1:.5f}')\n",
        "    if train_f1 > 0.90:\n",
        "        torch.save(model.state_dict(), f\"/content/data/MyDrive/deeplearning/{train_f1}.pt\")"
      ],
      "metadata": {
        "id": "UYN06pibkJxk"
      },
      "execution_count": null,
      "outputs": []
    },
    {
      "cell_type": "markdown",
      "source": [
        "# 결과 제출"
      ],
      "metadata": {
        "id": "22nWsheGyIPO"
      }
    },
    {
      "cell_type": "markdown",
      "source": [
        "## 저장된 모델 중에서 골라오기"
      ],
      "metadata": {
        "id": "mk28Qn0SA5Wa"
      }
    },
    {
      "cell_type": "code",
      "source": [
        "model.load_state_dict(torch.load('/content/data/MyDrive/deeplearning/0.9921008917114432.pt'))"
      ],
      "metadata": {
        "id": "DT_CSh7UkUb8",
        "colab": {
          "base_uri": "https://localhost:8080/"
        },
        "outputId": "12cff7b2-466b-4141-d97b-ebe7ca853a0d"
      },
      "execution_count": 23,
      "outputs": [
        {
          "output_type": "execute_result",
          "data": {
            "text/plain": [
              "<All keys matched successfully>"
            ]
          },
          "metadata": {},
          "execution_count": 23
        }
      ]
    },
    {
      "cell_type": "markdown",
      "source": [
        "## submmission 생성"
      ],
      "metadata": {
        "id": "Oy4Zy60XA_E7"
      }
    },
    {
      "cell_type": "code",
      "source": [
        "model.eval()\n",
        "f_pred = []\n",
        "\n",
        "with torch.no_grad():\n",
        "    for batch in (test_loader):\n",
        "        x = torch.tensor(batch[0], dtype = torch.float32, device = device)\n",
        "        with torch.cuda.amp.autocast():\n",
        "            pred = model(x)\n",
        "        f_pred.extend(pred.argmax(1).detach().cpu().numpy().tolist())"
      ],
      "metadata": {
        "id": "ZlgOECvgkVyr"
      },
      "execution_count": 24,
      "outputs": []
    },
    {
      "cell_type": "code",
      "source": [
        "label_decoder = {val:key for key, val in label_unique.items()}\n",
        "\n",
        "f_result = [label_decoder[result] for result in f_pred]"
      ],
      "metadata": {
        "id": "UPdQyBnRkXOr"
      },
      "execution_count": 25,
      "outputs": []
    },
    {
      "cell_type": "code",
      "source": [
        "submission = pd.read_csv(\"/content/data/MyDrive/deeplearning/sample_submission.csv\")\n",
        "\n",
        "submission[\"label\"] = f_result\n",
        "\n",
        "submission"
      ],
      "metadata": {
        "id": "KFyn4iYQkYtT",
        "colab": {
          "base_uri": "https://localhost:8080/",
          "height": 423
        },
        "outputId": "e06ce233-1534-4375-c24e-a71128e30895"
      },
      "execution_count": 26,
      "outputs": [
        {
          "output_type": "execute_result",
          "data": {
            "text/plain": [
              "      index                  label\n",
              "0         0        tile-glue_strip\n",
              "1         1              grid-glue\n",
              "2         2        transistor-good\n",
              "3         3       tile-gray_stroke\n",
              "4         4              tile-good\n",
              "...     ...                    ...\n",
              "2149   2149       tile-gray_stroke\n",
              "2150   2150             screw-good\n",
              "2151   2151              grid-bent\n",
              "2152   2152  cable-poke_insulation\n",
              "2153   2153            zipper-good\n",
              "\n",
              "[2154 rows x 2 columns]"
            ],
            "text/html": [
              "\n",
              "  <div id=\"df-a97624e4-9aa0-4c19-bcd1-a3ef292b7bd7\">\n",
              "    <div class=\"colab-df-container\">\n",
              "      <div>\n",
              "<style scoped>\n",
              "    .dataframe tbody tr th:only-of-type {\n",
              "        vertical-align: middle;\n",
              "    }\n",
              "\n",
              "    .dataframe tbody tr th {\n",
              "        vertical-align: top;\n",
              "    }\n",
              "\n",
              "    .dataframe thead th {\n",
              "        text-align: right;\n",
              "    }\n",
              "</style>\n",
              "<table border=\"1\" class=\"dataframe\">\n",
              "  <thead>\n",
              "    <tr style=\"text-align: right;\">\n",
              "      <th></th>\n",
              "      <th>index</th>\n",
              "      <th>label</th>\n",
              "    </tr>\n",
              "  </thead>\n",
              "  <tbody>\n",
              "    <tr>\n",
              "      <th>0</th>\n",
              "      <td>0</td>\n",
              "      <td>tile-glue_strip</td>\n",
              "    </tr>\n",
              "    <tr>\n",
              "      <th>1</th>\n",
              "      <td>1</td>\n",
              "      <td>grid-glue</td>\n",
              "    </tr>\n",
              "    <tr>\n",
              "      <th>2</th>\n",
              "      <td>2</td>\n",
              "      <td>transistor-good</td>\n",
              "    </tr>\n",
              "    <tr>\n",
              "      <th>3</th>\n",
              "      <td>3</td>\n",
              "      <td>tile-gray_stroke</td>\n",
              "    </tr>\n",
              "    <tr>\n",
              "      <th>4</th>\n",
              "      <td>4</td>\n",
              "      <td>tile-good</td>\n",
              "    </tr>\n",
              "    <tr>\n",
              "      <th>...</th>\n",
              "      <td>...</td>\n",
              "      <td>...</td>\n",
              "    </tr>\n",
              "    <tr>\n",
              "      <th>2149</th>\n",
              "      <td>2149</td>\n",
              "      <td>tile-gray_stroke</td>\n",
              "    </tr>\n",
              "    <tr>\n",
              "      <th>2150</th>\n",
              "      <td>2150</td>\n",
              "      <td>screw-good</td>\n",
              "    </tr>\n",
              "    <tr>\n",
              "      <th>2151</th>\n",
              "      <td>2151</td>\n",
              "      <td>grid-bent</td>\n",
              "    </tr>\n",
              "    <tr>\n",
              "      <th>2152</th>\n",
              "      <td>2152</td>\n",
              "      <td>cable-poke_insulation</td>\n",
              "    </tr>\n",
              "    <tr>\n",
              "      <th>2153</th>\n",
              "      <td>2153</td>\n",
              "      <td>zipper-good</td>\n",
              "    </tr>\n",
              "  </tbody>\n",
              "</table>\n",
              "<p>2154 rows × 2 columns</p>\n",
              "</div>\n",
              "      <button class=\"colab-df-convert\" onclick=\"convertToInteractive('df-a97624e4-9aa0-4c19-bcd1-a3ef292b7bd7')\"\n",
              "              title=\"Convert this dataframe to an interactive table.\"\n",
              "              style=\"display:none;\">\n",
              "        \n",
              "  <svg xmlns=\"http://www.w3.org/2000/svg\" height=\"24px\"viewBox=\"0 0 24 24\"\n",
              "       width=\"24px\">\n",
              "    <path d=\"M0 0h24v24H0V0z\" fill=\"none\"/>\n",
              "    <path d=\"M18.56 5.44l.94 2.06.94-2.06 2.06-.94-2.06-.94-.94-2.06-.94 2.06-2.06.94zm-11 1L8.5 8.5l.94-2.06 2.06-.94-2.06-.94L8.5 2.5l-.94 2.06-2.06.94zm10 10l.94 2.06.94-2.06 2.06-.94-2.06-.94-.94-2.06-.94 2.06-2.06.94z\"/><path d=\"M17.41 7.96l-1.37-1.37c-.4-.4-.92-.59-1.43-.59-.52 0-1.04.2-1.43.59L10.3 9.45l-7.72 7.72c-.78.78-.78 2.05 0 2.83L4 21.41c.39.39.9.59 1.41.59.51 0 1.02-.2 1.41-.59l7.78-7.78 2.81-2.81c.8-.78.8-2.07 0-2.86zM5.41 20L4 18.59l7.72-7.72 1.47 1.35L5.41 20z\"/>\n",
              "  </svg>\n",
              "      </button>\n",
              "      \n",
              "  <style>\n",
              "    .colab-df-container {\n",
              "      display:flex;\n",
              "      flex-wrap:wrap;\n",
              "      gap: 12px;\n",
              "    }\n",
              "\n",
              "    .colab-df-convert {\n",
              "      background-color: #E8F0FE;\n",
              "      border: none;\n",
              "      border-radius: 50%;\n",
              "      cursor: pointer;\n",
              "      display: none;\n",
              "      fill: #1967D2;\n",
              "      height: 32px;\n",
              "      padding: 0 0 0 0;\n",
              "      width: 32px;\n",
              "    }\n",
              "\n",
              "    .colab-df-convert:hover {\n",
              "      background-color: #E2EBFA;\n",
              "      box-shadow: 0px 1px 2px rgba(60, 64, 67, 0.3), 0px 1px 3px 1px rgba(60, 64, 67, 0.15);\n",
              "      fill: #174EA6;\n",
              "    }\n",
              "\n",
              "    [theme=dark] .colab-df-convert {\n",
              "      background-color: #3B4455;\n",
              "      fill: #D2E3FC;\n",
              "    }\n",
              "\n",
              "    [theme=dark] .colab-df-convert:hover {\n",
              "      background-color: #434B5C;\n",
              "      box-shadow: 0px 1px 3px 1px rgba(0, 0, 0, 0.15);\n",
              "      filter: drop-shadow(0px 1px 2px rgba(0, 0, 0, 0.3));\n",
              "      fill: #FFFFFF;\n",
              "    }\n",
              "  </style>\n",
              "\n",
              "      <script>\n",
              "        const buttonEl =\n",
              "          document.querySelector('#df-a97624e4-9aa0-4c19-bcd1-a3ef292b7bd7 button.colab-df-convert');\n",
              "        buttonEl.style.display =\n",
              "          google.colab.kernel.accessAllowed ? 'block' : 'none';\n",
              "\n",
              "        async function convertToInteractive(key) {\n",
              "          const element = document.querySelector('#df-a97624e4-9aa0-4c19-bcd1-a3ef292b7bd7');\n",
              "          const dataTable =\n",
              "            await google.colab.kernel.invokeFunction('convertToInteractive',\n",
              "                                                     [key], {});\n",
              "          if (!dataTable) return;\n",
              "\n",
              "          const docLinkHtml = 'Like what you see? Visit the ' +\n",
              "            '<a target=\"_blank\" href=https://colab.research.google.com/notebooks/data_table.ipynb>data table notebook</a>'\n",
              "            + ' to learn more about interactive tables.';\n",
              "          element.innerHTML = '';\n",
              "          dataTable['output_type'] = 'display_data';\n",
              "          await google.colab.output.renderOutput(dataTable, element);\n",
              "          const docLink = document.createElement('div');\n",
              "          docLink.innerHTML = docLinkHtml;\n",
              "          element.appendChild(docLink);\n",
              "        }\n",
              "      </script>\n",
              "    </div>\n",
              "  </div>\n",
              "  "
            ]
          },
          "metadata": {},
          "execution_count": 26
        }
      ]
    },
    {
      "cell_type": "code",
      "source": [
        "submission.to_csv(\"0320_b1.csv\", index = False)"
      ],
      "metadata": {
        "id": "gdcVcKK7kaBS"
      },
      "execution_count": 27,
      "outputs": []
    }
  ],
  "metadata": {
    "interpreter": {
      "hash": "d60e79b47118bf8d053c30920be263c6b6ca65e525ada8cdf877117bfde307c2"
    },
    "kernelspec": {
      "display_name": "Python 3.7.11 ('data')",
      "language": "python",
      "name": "python3"
    },
    "language_info": {
      "codemirror_mode": {
        "name": "ipython",
        "version": 3
      },
      "file_extension": ".py",
      "mimetype": "text/x-python",
      "name": "python",
      "nbconvert_exporter": "python",
      "pygments_lexer": "ipython3",
      "version": "3.7.11"
    },
    "orig_nbformat": 4,
    "colab": {
      "provenance": [],
      "machine_shape": "hm"
    },
    "accelerator": "GPU",
    "gpuClass": "standard"
  },
  "nbformat": 4,
  "nbformat_minor": 0
}